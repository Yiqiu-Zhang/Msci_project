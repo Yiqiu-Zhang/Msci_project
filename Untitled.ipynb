{
 "cells": [
  {
   "cell_type": "code",
   "execution_count": 13,
   "metadata": {},
   "outputs": [
    {
     "data": {
      "application/3dmoljs_load.v0": "<div id=\"3dmolviewer_16086369591021037\"  style=\"position: relative; width: 400px; height: 400px\">\n        <p id=\"3dmolwarning_16086369591021037\" style=\"background-color:#ffcccc;color:black\">You appear to be running in JupyterLab (or JavaScript failed to load for some other reason).  You need to install the 3dmol extension: <br>\n        <tt>jupyter labextension install jupyterlab_3dmol</tt></p>\n        </div>\n<script>\n\nvar loadScriptAsync = function(uri){\n  return new Promise((resolve, reject) => {\n    var tag = document.createElement('script');\n    tag.src = uri;\n    tag.async = true;\n    tag.onload = () => {\n      resolve();\n    };\n  var firstScriptTag = document.getElementsByTagName('script')[0];\n  firstScriptTag.parentNode.insertBefore(tag, firstScriptTag);\n});\n};\n\nif(typeof $3Dmolpromise === 'undefined') {\n$3Dmolpromise = null;\n  $3Dmolpromise = loadScriptAsync('https://3dmol.csb.pitt.edu/build/3Dmol.js');\n}\n\nvar viewer_16086369591021037 = null;\nvar warn = document.getElementById(\"3dmolwarning_16086369591021037\");\nif(warn) {\n    warn.parentNode.removeChild(warn);\n}\n$3Dmolpromise.then(function() {\nviewer_16086369591021037 = $3Dmol.createViewer($(\"#3dmolviewer_16086369591021037\"),{backgroundColor:\"white\"});\n\tviewer_16086369591021037.removeAllModels();\n\tviewer_16086369591021037.addModel(\"\\n     RDKit          3D\\n\\n 20 22  0  0  0  0  0  0  0  0999 V2000\\n   -3.0029   -2.3230   -1.7837 O   0  0  0  0  0  0  0  0  0  0  0  0\\n   -2.8521   -1.8173   -0.6308 C   0  0  0  0  0  0  0  0  0  0  0  0\\n   -3.9049   -1.9676    0.4138 C   0  0  0  0  0  0  0  0  0  0  0  0\\n   -3.4705   -3.2666    1.5360 Cl  0  0  0  0  0  0  0  0  0  0  0  0\\n   -1.8280   -0.8169   -0.5354 N   0  0  0  0  0  0  0  0  0  0  0  0\\n   -2.2503    0.5301   -0.7962 C   0  0  0  0  0  0  0  0  0  0  0  0\\n   -1.1930    1.5386   -0.6141 C   0  0  0  0  0  0  0  0  0  0  0  0\\n   -1.5727    2.8673   -0.6327 C   0  0  0  0  0  0  0  0  0  0  0  0\\n   -0.7257    3.8650   -0.1656 C   0  0  0  0  0  0  0  0  0  0  0  0\\n    0.6165    3.5139   -0.0950 C   0  0  0  0  0  0  0  0  0  0  0  0\\n    0.9731    2.1768    0.0262 C   0  0  0  0  0  0  0  0  0  0  0  0\\n    0.0616    1.1566   -0.2206 C   0  0  0  0  0  0  0  0  0  0  0  0\\n    0.3042   -0.1088    0.4936 C   0  0  0  0  0  0  0  0  0  0  0  0\\n    1.7061   -0.5995    0.3094 C   0  0  0  0  0  0  0  0  0  0  0  0\\n    2.3141   -1.3175    1.3303 C   0  0  0  0  0  0  0  0  0  0  0  0\\n    3.6505   -1.6493    1.3187 C   0  0  0  0  0  0  0  0  0  0  0  0\\n    4.3072   -1.5154    0.1016 C   0  0  0  0  0  0  0  0  0  0  0  0\\n    3.6455   -0.9857   -0.9978 C   0  0  0  0  0  0  0  0  0  0  0  0\\n    2.2811   -0.7287   -0.9468 C   0  0  0  0  0  0  0  0  0  0  0  0\\n   -0.6339   -1.2123    0.1514 C   0  0  0  0  0  0  0  0  0  0  0  0\\n  2  1  2  0\\n  3  2  1  0\\n  4  3  1  0\\n  5  2  1  0\\n  6  5  1  0\\n  7  6  1  0\\n  8  7  2  0\\n  9  8  1  0\\n 10  9  2  0\\n 11 10  1  0\\n 12 11  2  0\\n 12  7  1  0\\n 13 12  1  0\\n 14 13  1  0\\n 15 14  2  0\\n 16 15  1  0\\n 17 16  2  0\\n 18 17  1  0\\n 19 18  2  0\\n 19 14  1  0\\n 20 13  1  0\\n 20  5  1  0\\nM  END\\n\",\"sdf\");\n\tviewer_16086369591021037.setStyle({\"stick\": {}});\n\tviewer_16086369591021037.setBackgroundColor(\"0xeeeeee\");\n\tviewer_16086369591021037.zoomTo();\nviewer_16086369591021037.render();\n});\n</script>",
      "text/html": [
       "<div id=\"3dmolviewer_16086369591021037\"  style=\"position: relative; width: 400px; height: 400px\">\n",
       "        <p id=\"3dmolwarning_16086369591021037\" style=\"background-color:#ffcccc;color:black\">You appear to be running in JupyterLab (or JavaScript failed to load for some other reason).  You need to install the 3dmol extension: <br>\n",
       "        <tt>jupyter labextension install jupyterlab_3dmol</tt></p>\n",
       "        </div>\n",
       "<script>\n",
       "\n",
       "var loadScriptAsync = function(uri){\n",
       "  return new Promise((resolve, reject) => {\n",
       "    var tag = document.createElement('script');\n",
       "    tag.src = uri;\n",
       "    tag.async = true;\n",
       "    tag.onload = () => {\n",
       "      resolve();\n",
       "    };\n",
       "  var firstScriptTag = document.getElementsByTagName('script')[0];\n",
       "  firstScriptTag.parentNode.insertBefore(tag, firstScriptTag);\n",
       "});\n",
       "};\n",
       "\n",
       "if(typeof $3Dmolpromise === 'undefined') {\n",
       "$3Dmolpromise = null;\n",
       "  $3Dmolpromise = loadScriptAsync('https://3dmol.csb.pitt.edu/build/3Dmol.js');\n",
       "}\n",
       "\n",
       "var viewer_16086369591021037 = null;\n",
       "var warn = document.getElementById(\"3dmolwarning_16086369591021037\");\n",
       "if(warn) {\n",
       "    warn.parentNode.removeChild(warn);\n",
       "}\n",
       "$3Dmolpromise.then(function() {\n",
       "viewer_16086369591021037 = $3Dmol.createViewer($(\"#3dmolviewer_16086369591021037\"),{backgroundColor:\"white\"});\n",
       "\tviewer_16086369591021037.removeAllModels();\n",
       "\tviewer_16086369591021037.addModel(\"\\n     RDKit          3D\\n\\n 20 22  0  0  0  0  0  0  0  0999 V2000\\n   -3.0029   -2.3230   -1.7837 O   0  0  0  0  0  0  0  0  0  0  0  0\\n   -2.8521   -1.8173   -0.6308 C   0  0  0  0  0  0  0  0  0  0  0  0\\n   -3.9049   -1.9676    0.4138 C   0  0  0  0  0  0  0  0  0  0  0  0\\n   -3.4705   -3.2666    1.5360 Cl  0  0  0  0  0  0  0  0  0  0  0  0\\n   -1.8280   -0.8169   -0.5354 N   0  0  0  0  0  0  0  0  0  0  0  0\\n   -2.2503    0.5301   -0.7962 C   0  0  0  0  0  0  0  0  0  0  0  0\\n   -1.1930    1.5386   -0.6141 C   0  0  0  0  0  0  0  0  0  0  0  0\\n   -1.5727    2.8673   -0.6327 C   0  0  0  0  0  0  0  0  0  0  0  0\\n   -0.7257    3.8650   -0.1656 C   0  0  0  0  0  0  0  0  0  0  0  0\\n    0.6165    3.5139   -0.0950 C   0  0  0  0  0  0  0  0  0  0  0  0\\n    0.9731    2.1768    0.0262 C   0  0  0  0  0  0  0  0  0  0  0  0\\n    0.0616    1.1566   -0.2206 C   0  0  0  0  0  0  0  0  0  0  0  0\\n    0.3042   -0.1088    0.4936 C   0  0  0  0  0  0  0  0  0  0  0  0\\n    1.7061   -0.5995    0.3094 C   0  0  0  0  0  0  0  0  0  0  0  0\\n    2.3141   -1.3175    1.3303 C   0  0  0  0  0  0  0  0  0  0  0  0\\n    3.6505   -1.6493    1.3187 C   0  0  0  0  0  0  0  0  0  0  0  0\\n    4.3072   -1.5154    0.1016 C   0  0  0  0  0  0  0  0  0  0  0  0\\n    3.6455   -0.9857   -0.9978 C   0  0  0  0  0  0  0  0  0  0  0  0\\n    2.2811   -0.7287   -0.9468 C   0  0  0  0  0  0  0  0  0  0  0  0\\n   -0.6339   -1.2123    0.1514 C   0  0  0  0  0  0  0  0  0  0  0  0\\n  2  1  2  0\\n  3  2  1  0\\n  4  3  1  0\\n  5  2  1  0\\n  6  5  1  0\\n  7  6  1  0\\n  8  7  2  0\\n  9  8  1  0\\n 10  9  2  0\\n 11 10  1  0\\n 12 11  2  0\\n 12  7  1  0\\n 13 12  1  0\\n 14 13  1  0\\n 15 14  2  0\\n 16 15  1  0\\n 17 16  2  0\\n 18 17  1  0\\n 19 18  2  0\\n 19 14  1  0\\n 20 13  1  0\\n 20  5  1  0\\nM  END\\n\",\"sdf\");\n",
       "\tviewer_16086369591021037.setStyle({\"stick\": {}});\n",
       "\tviewer_16086369591021037.setBackgroundColor(\"0xeeeeee\");\n",
       "\tviewer_16086369591021037.zoomTo();\n",
       "viewer_16086369591021037.render();\n",
       "});\n",
       "</script>"
      ]
     },
     "metadata": {},
     "output_type": "display_data"
    }
   ],
   "source": [
    "import py3Dmol\n",
    "def drawit(m,p=None,confId=-1):\n",
    "        mb = Chem.MolToMolBlock(m,confId=confId)\n",
    "        if p is None:\n",
    "            p = py3Dmol.view(width=400,height=400)\n",
    "        p.removeAllModels()\n",
    "        p.addModel(mb,'sdf')\n",
    "        p.setStyle({'stick':{}})\n",
    "        p.setBackgroundColor('0xeeeeee')\n",
    "        p.zoomTo()\n",
    "        return p.show()\n",
    "    \n",
    "import numpy as np\n",
    "#from openbabel import openbabel\n",
    "from rdkit import Chem\n",
    "from AlignmentInfo import AlignmentInfo\n",
    "from GaussianVolume import GaussianVolume, Molecule_volume, initOrientation, getScore, checkVolumes\n",
    "from ShapeAlignment import ShapeAlignment\n",
    "from SolutionInfo import SolutionInfo, updateSolutionInfo\n",
    "from rdkit.Chem import AllChem\n",
    "\n",
    "pre_refMol = Chem.MolFromMolFile('AAR.mol')\n",
    "pre_refMol_H=Chem.AddHs(pre_refMol)\n",
    "AllChem.EmbedMolecule(pre_refMol_H) \n",
    "refMol = Chem.RemoveHs(pre_refMol_H)\n",
    "\n",
    "#refMol = Chem.MolFromMolFile('ALA.mol')\n",
    "drawit(refMol)\n"
   ]
  },
  {
   "cell_type": "code",
   "execution_count": 9,
   "metadata": {},
   "outputs": [
    {
     "data": {
      "application/3dmoljs_load.v0": "<div id=\"3dmolviewer_16085634999453044\"  style=\"position: relative; width: 640px; height: 480px\">\n        <p id=\"3dmolwarning_16085634999453044\" style=\"background-color:#ffcccc;color:black\">You appear to be running in JupyterLab (or JavaScript failed to load for some other reason).  You need to install the 3dmol extension: <br>\n        <tt>jupyter labextension install jupyterlab_3dmol</tt></p>\n        </div>\n<script>\n\nvar loadScriptAsync = function(uri){\n  return new Promise((resolve, reject) => {\n    var tag = document.createElement('script');\n    tag.src = uri;\n    tag.async = true;\n    tag.onload = () => {\n      resolve();\n    };\n  var firstScriptTag = document.getElementsByTagName('script')[0];\n  firstScriptTag.parentNode.insertBefore(tag, firstScriptTag);\n});\n};\n\nif(typeof $3Dmolpromise === 'undefined') {\n$3Dmolpromise = null;\n  $3Dmolpromise = loadScriptAsync('https://3dmol.csb.pitt.edu/build/3Dmol.js');\n}\n\nvar viewer_16085634999453044 = null;\nvar warn = document.getElementById(\"3dmolwarning_16085634999453044\");\nif(warn) {\n    warn.parentNode.removeChild(warn);\n}\n$3Dmolpromise.then(function() {\nviewer_16085634999453044 = $3Dmol.createViewer($(\"#3dmolviewer_16085634999453044\"),{backgroundColor:\"white\"});\n$3Dmol.download(\"pdb:4KW4\", viewer_16085634999453044, {}, function() {\nviewer_16085634999453044.render();\n})\n});\n</script>",
      "text/html": [
       "<div id=\"3dmolviewer_16085634999453044\"  style=\"position: relative; width: 640px; height: 480px\">\n",
       "        <p id=\"3dmolwarning_16085634999453044\" style=\"background-color:#ffcccc;color:black\">You appear to be running in JupyterLab (or JavaScript failed to load for some other reason).  You need to install the 3dmol extension: <br>\n",
       "        <tt>jupyter labextension install jupyterlab_3dmol</tt></p>\n",
       "        </div>\n",
       "<script>\n",
       "\n",
       "var loadScriptAsync = function(uri){\n",
       "  return new Promise((resolve, reject) => {\n",
       "    var tag = document.createElement('script');\n",
       "    tag.src = uri;\n",
       "    tag.async = true;\n",
       "    tag.onload = () => {\n",
       "      resolve();\n",
       "    };\n",
       "  var firstScriptTag = document.getElementsByTagName('script')[0];\n",
       "  firstScriptTag.parentNode.insertBefore(tag, firstScriptTag);\n",
       "});\n",
       "};\n",
       "\n",
       "if(typeof $3Dmolpromise === 'undefined') {\n",
       "$3Dmolpromise = null;\n",
       "  $3Dmolpromise = loadScriptAsync('https://3dmol.csb.pitt.edu/build/3Dmol.js');\n",
       "}\n",
       "\n",
       "var viewer_16085634999453044 = null;\n",
       "var warn = document.getElementById(\"3dmolwarning_16085634999453044\");\n",
       "if(warn) {\n",
       "    warn.parentNode.removeChild(warn);\n",
       "}\n",
       "$3Dmolpromise.then(function() {\n",
       "viewer_16085634999453044 = $3Dmol.createViewer($(\"#3dmolviewer_16085634999453044\"),{backgroundColor:\"white\"});\n",
       "$3Dmol.download(\"pdb:4KW4\", viewer_16085634999453044, {}, function() {\n",
       "viewer_16085634999453044.render();\n",
       "})\n",
       "});\n",
       "</script>"
      ]
     },
     "metadata": {},
     "output_type": "display_data"
    }
   ],
   "source": [
    "benz='''\n",
    "     RDKit          3D\n",
    "\n",
    "  6  6  0  0  0  0  0  0  0  0999 V2000\n",
    "   -0.9517    0.7811   -0.6622 C   0  0  0  0  0  0  0  0  0  0  0  0\n",
    "    0.2847    1.3329   -0.3121 C   0  0  0  0  0  0  0  0  0  0  0  0\n",
    "    1.2365    0.5518    0.3512 C   0  0  0  0  0  0  0  0  0  0  0  0\n",
    "    0.9517   -0.7811    0.6644 C   0  0  0  0  0  0  0  0  0  0  0  0\n",
    "   -0.2847   -1.3329    0.3144 C   0  0  0  0  0  0  0  0  0  0  0  0\n",
    "   -1.2365   -0.5518   -0.3489 C   0  0  0  0  0  0  0  0  0  0  0  0\n",
    "  1  2  2  0\n",
    "  2  3  1  0\n",
    "  3  4  2  0\n",
    "  4  5  1  0\n",
    "  5  6  2  0\n",
    "  6  1  1  0\n",
    "M  END\n",
    "$$$$'''\n",
    "view = py3Dmol.view(query='pdb:4KW4')\n",
    "view.show()"
   ]
  },
  {
   "cell_type": "code",
   "execution_count": 4,
   "metadata": {},
   "outputs": [
    {
     "data": {
      "application/3dmoljs_load.v0": "<div id=\"3dmolviewer_1608557303493323\"  style=\"position: relative; width: 640px; height: 480px\">\n        <p id=\"3dmolwarning_1608557303493323\" style=\"background-color:#ffcccc;color:black\">You appear to be running in JupyterLab (or JavaScript failed to load for some other reason).  You need to install the 3dmol extension: <br>\n        <tt>jupyter labextension install jupyterlab_3dmol</tt></p>\n        </div>\n<script>\n\nvar loadScriptAsync = function(uri){\n  return new Promise((resolve, reject) => {\n    var tag = document.createElement('script');\n    tag.src = uri;\n    tag.async = true;\n    tag.onload = () => {\n      resolve();\n    };\n  var firstScriptTag = document.getElementsByTagName('script')[0];\n  firstScriptTag.parentNode.insertBefore(tag, firstScriptTag);\n});\n};\n\nif(typeof $3Dmolpromise === 'undefined') {\n$3Dmolpromise = null;\n  $3Dmolpromise = loadScriptAsync('https://3dmol.csb.pitt.edu/build/3Dmol.js');\n}\n\nvar viewer_1608557303493323 = null;\nvar warn = document.getElementById(\"3dmolwarning_1608557303493323\");\nif(warn) {\n    warn.parentNode.removeChild(warn);\n}\n$3Dmolpromise.then(function() {\nvar viewergrid_1608557303493323 = null;\nviewergrid_1608557303493323 = $3Dmol.createViewerGrid($(\"#3dmolviewer_1608557303493323\"),{rows: 2, cols: 2, control_all: false},{backgroundColor:\"white\"});\nviewer_1608557303493323 = viewergrid_1608557303493323[0][0];\n$3Dmol.download(\"pdb:1dc9\", viewergrid_1608557303493323[0][0], {}, function() {\n$3Dmol.download(\"pdb:1dc9\", viewergrid_1608557303493323[0][1], {}, function() {\n$3Dmol.download(\"pdb:1dc9\", viewergrid_1608557303493323[1][0], {}, function() {\n$3Dmol.download(\"pdb:1dc9\", viewergrid_1608557303493323[1][1], {}, function() {\n\tviewergrid_1608557303493323[0][0].setViewStyle({\"style\": \"outline\", \"color\": \"black\", \"width\": 0.1});\n\tviewergrid_1608557303493323[0][1].setViewStyle({\"style\": \"outline\", \"color\": \"black\", \"width\": 0.1});\n\tviewergrid_1608557303493323[1][0].setViewStyle({\"style\": \"outline\", \"color\": \"black\", \"width\": 0.1});\n\tviewergrid_1608557303493323[1][1].setViewStyle({\"style\": \"outline\", \"color\": \"black\", \"width\": 0.1});\n\tviewergrid_1608557303493323[0][1].setStyle({\"cartoon\": {\"arrows\": true, \"tubes\": true, \"style\": \"oval\", \"color\": \"white\"}});\n\tviewergrid_1608557303493323[1][0].setStyle({\"stick\": {\"colorscheme\": \"greenCarbon\"}});\n\tviewergrid_1608557303493323[1][1].setStyle({\"cartoon\": {\"color\": \"spectrum\"}});\n\tviewergrid_1608557303493323[0][0].removeAllModels();\n\tviewergrid_1608557303493323[0][0].addModel(\"\\n     RDKit          3D\\n\\n  6  6  0  0  0  0  0  0  0  0999 V2000\\n   -0.9517    0.7811   -0.6622 C   0  0  0  0  0  0  0  0  0  0  0  0\\n    0.2847    1.3329   -0.3121 C   0  0  0  0  0  0  0  0  0  0  0  0\\n    1.2365    0.5518    0.3512 C   0  0  0  0  0  0  0  0  0  0  0  0\\n    0.9517   -0.7811    0.6644 C   0  0  0  0  0  0  0  0  0  0  0  0\\n   -0.2847   -1.3329    0.3144 C   0  0  0  0  0  0  0  0  0  0  0  0\\n   -1.2365   -0.5518   -0.3489 C   0  0  0  0  0  0  0  0  0  0  0  0\\n  1  2  2  0\\n  2  3  1  0\\n  3  4  2  0\\n  4  5  1  0\\n  5  6  2  0\\n  6  1  1  0\\nM  END\\n$$$$\",\"sdf\");\n\tviewergrid_1608557303493323[0][0].setStyle({\"stick\": {}});\n\tviewergrid_1608557303493323[0][0].zoomTo();\n\tviewergrid_1608557303493323[0][0].render();\n\tviewergrid_1608557303493323[0][1].render();\n\tviewergrid_1608557303493323[1][0].render();\n\tviewergrid_1608557303493323[1][1].render();\nviewergrid_1608557303493323[1][1].render();\nviewergrid_1608557303493323[1][0].render();\nviewergrid_1608557303493323[0][1].render();\nviewergrid_1608557303493323[0][0].render();\n})\n})\n})\n})\n});\n</script>",
      "text/html": [
       "<div id=\"3dmolviewer_1608557303493323\"  style=\"position: relative; width: 640px; height: 480px\">\n",
       "        <p id=\"3dmolwarning_1608557303493323\" style=\"background-color:#ffcccc;color:black\">You appear to be running in JupyterLab (or JavaScript failed to load for some other reason).  You need to install the 3dmol extension: <br>\n",
       "        <tt>jupyter labextension install jupyterlab_3dmol</tt></p>\n",
       "        </div>\n",
       "<script>\n",
       "\n",
       "var loadScriptAsync = function(uri){\n",
       "  return new Promise((resolve, reject) => {\n",
       "    var tag = document.createElement('script');\n",
       "    tag.src = uri;\n",
       "    tag.async = true;\n",
       "    tag.onload = () => {\n",
       "      resolve();\n",
       "    };\n",
       "  var firstScriptTag = document.getElementsByTagName('script')[0];\n",
       "  firstScriptTag.parentNode.insertBefore(tag, firstScriptTag);\n",
       "});\n",
       "};\n",
       "\n",
       "if(typeof $3Dmolpromise === 'undefined') {\n",
       "$3Dmolpromise = null;\n",
       "  $3Dmolpromise = loadScriptAsync('https://3dmol.csb.pitt.edu/build/3Dmol.js');\n",
       "}\n",
       "\n",
       "var viewer_1608557303493323 = null;\n",
       "var warn = document.getElementById(\"3dmolwarning_1608557303493323\");\n",
       "if(warn) {\n",
       "    warn.parentNode.removeChild(warn);\n",
       "}\n",
       "$3Dmolpromise.then(function() {\n",
       "var viewergrid_1608557303493323 = null;\n",
       "viewergrid_1608557303493323 = $3Dmol.createViewerGrid($(\"#3dmolviewer_1608557303493323\"),{rows: 2, cols: 2, control_all: false},{backgroundColor:\"white\"});\n",
       "viewer_1608557303493323 = viewergrid_1608557303493323[0][0];\n",
       "$3Dmol.download(\"pdb:1dc9\", viewergrid_1608557303493323[0][0], {}, function() {\n",
       "$3Dmol.download(\"pdb:1dc9\", viewergrid_1608557303493323[0][1], {}, function() {\n",
       "$3Dmol.download(\"pdb:1dc9\", viewergrid_1608557303493323[1][0], {}, function() {\n",
       "$3Dmol.download(\"pdb:1dc9\", viewergrid_1608557303493323[1][1], {}, function() {\n",
       "\tviewergrid_1608557303493323[0][0].setViewStyle({\"style\": \"outline\", \"color\": \"black\", \"width\": 0.1});\n",
       "\tviewergrid_1608557303493323[0][1].setViewStyle({\"style\": \"outline\", \"color\": \"black\", \"width\": 0.1});\n",
       "\tviewergrid_1608557303493323[1][0].setViewStyle({\"style\": \"outline\", \"color\": \"black\", \"width\": 0.1});\n",
       "\tviewergrid_1608557303493323[1][1].setViewStyle({\"style\": \"outline\", \"color\": \"black\", \"width\": 0.1});\n",
       "\tviewergrid_1608557303493323[0][1].setStyle({\"cartoon\": {\"arrows\": true, \"tubes\": true, \"style\": \"oval\", \"color\": \"white\"}});\n",
       "\tviewergrid_1608557303493323[1][0].setStyle({\"stick\": {\"colorscheme\": \"greenCarbon\"}});\n",
       "\tviewergrid_1608557303493323[1][1].setStyle({\"cartoon\": {\"color\": \"spectrum\"}});\n",
       "\tviewergrid_1608557303493323[0][0].removeAllModels();\n",
       "\tviewergrid_1608557303493323[0][0].addModel(\"\\n     RDKit          3D\\n\\n  6  6  0  0  0  0  0  0  0  0999 V2000\\n   -0.9517    0.7811   -0.6622 C   0  0  0  0  0  0  0  0  0  0  0  0\\n    0.2847    1.3329   -0.3121 C   0  0  0  0  0  0  0  0  0  0  0  0\\n    1.2365    0.5518    0.3512 C   0  0  0  0  0  0  0  0  0  0  0  0\\n    0.9517   -0.7811    0.6644 C   0  0  0  0  0  0  0  0  0  0  0  0\\n   -0.2847   -1.3329    0.3144 C   0  0  0  0  0  0  0  0  0  0  0  0\\n   -1.2365   -0.5518   -0.3489 C   0  0  0  0  0  0  0  0  0  0  0  0\\n  1  2  2  0\\n  2  3  1  0\\n  3  4  2  0\\n  4  5  1  0\\n  5  6  2  0\\n  6  1  1  0\\nM  END\\n$$$$\",\"sdf\");\n",
       "\tviewergrid_1608557303493323[0][0].setStyle({\"stick\": {}});\n",
       "\tviewergrid_1608557303493323[0][0].zoomTo();\n",
       "\tviewergrid_1608557303493323[0][0].render();\n",
       "\tviewergrid_1608557303493323[0][1].render();\n",
       "\tviewergrid_1608557303493323[1][0].render();\n",
       "\tviewergrid_1608557303493323[1][1].render();\n",
       "viewergrid_1608557303493323[1][1].render();\n",
       "viewergrid_1608557303493323[1][0].render();\n",
       "viewergrid_1608557303493323[0][1].render();\n",
       "viewergrid_1608557303493323[0][0].render();\n",
       "})\n",
       "})\n",
       "})\n",
       "})\n",
       "});\n",
       "</script>"
      ]
     },
     "metadata": {},
     "output_type": "display_data"
    },
    {
     "data": {
      "text/plain": [
       "<py3Dmol.view at 0x173ffa26d30>"
      ]
     },
     "execution_count": 4,
     "metadata": {},
     "output_type": "execute_result"
    }
   ],
   "source": [
    "view = py3Dmol.view(query='pdb:1dc9',linked=False,viewergrid=(2,2))\n",
    "view.setViewStyle({'style':'outline','color':'black','width':0.1})\n",
    "view.setStyle({'cartoon':{'arrows':True, 'tubes':True, 'style':'oval', 'color':'white'}},viewer=(0,1))\n",
    "view.setStyle({'stick':{'colorscheme':'greenCarbon'}},viewer=(1,0))\n",
    "view.setStyle({'cartoon':{'color':'spectrum'}},viewer=(1,1))\n",
    "view.removeAllModels(viewer=(0,0))\n",
    "view.addModel(benz,'sdf',viewer=(0,0))\n",
    "view.setStyle({'stick':{}},viewer=(0,0))\n",
    "view.zoomTo(viewer=(0,0))\n",
    "view.render()"
   ]
  },
  {
   "cell_type": "code",
   "execution_count": 7,
   "metadata": {},
   "outputs": [
    {
     "data": {
      "application/3dmoljs_load.v0": "<div id=\"3dmolviewer_16085574398765867\"  style=\"position: relative; width: 640px; height: 480px\">\n        <p id=\"3dmolwarning_16085574398765867\" style=\"background-color:#ffcccc;color:black\">You appear to be running in JupyterLab (or JavaScript failed to load for some other reason).  You need to install the 3dmol extension: <br>\n        <tt>jupyter labextension install jupyterlab_3dmol</tt></p>\n        </div>\n<script>\n\nvar loadScriptAsync = function(uri){\n  return new Promise((resolve, reject) => {\n    var tag = document.createElement('script');\n    tag.src = uri;\n    tag.async = true;\n    tag.onload = () => {\n      resolve();\n    };\n  var firstScriptTag = document.getElementsByTagName('script')[0];\n  firstScriptTag.parentNode.insertBefore(tag, firstScriptTag);\n});\n};\n\nif(typeof $3Dmolpromise === 'undefined') {\n$3Dmolpromise = null;\n  $3Dmolpromise = loadScriptAsync('https://3dmol.csb.pitt.edu/build/3Dmol.js');\n}\n\nvar viewer_16085574398765867 = null;\nvar warn = document.getElementById(\"3dmolwarning_16085574398765867\");\nif(warn) {\n    warn.parentNode.removeChild(warn);\n}\n$3Dmolpromise.then(function() {\nviewer_16085574398765867 = $3Dmol.createViewer($(\"#3dmolviewer_16085574398765867\"),{backgroundColor:\"white\"});\n$3Dmol.download(\"pdb:1ycr\", viewer_16085574398765867, {}, function() {\n\tviewer_16085574398765867.setStyle({\"chain\": \"A\"},{\"cartoon\": {\"color\": \"spectrum\"}});\n\tviewer_16085574398765867.addSurface(1,{\"opacity\": 0.7, \"color\": \"white\"},{\"chain\": \"A\"});\n\tviewer_16085574398765867.setStyle({\"chain\": \"B\"},{\"stick\": {}});\nviewer_16085574398765867.render();\n})\n});\n</script>",
      "text/html": [
       "<div id=\"3dmolviewer_16085574398765867\"  style=\"position: relative; width: 640px; height: 480px\">\n",
       "        <p id=\"3dmolwarning_16085574398765867\" style=\"background-color:#ffcccc;color:black\">You appear to be running in JupyterLab (or JavaScript failed to load for some other reason).  You need to install the 3dmol extension: <br>\n",
       "        <tt>jupyter labextension install jupyterlab_3dmol</tt></p>\n",
       "        </div>\n",
       "<script>\n",
       "\n",
       "var loadScriptAsync = function(uri){\n",
       "  return new Promise((resolve, reject) => {\n",
       "    var tag = document.createElement('script');\n",
       "    tag.src = uri;\n",
       "    tag.async = true;\n",
       "    tag.onload = () => {\n",
       "      resolve();\n",
       "    };\n",
       "  var firstScriptTag = document.getElementsByTagName('script')[0];\n",
       "  firstScriptTag.parentNode.insertBefore(tag, firstScriptTag);\n",
       "});\n",
       "};\n",
       "\n",
       "if(typeof $3Dmolpromise === 'undefined') {\n",
       "$3Dmolpromise = null;\n",
       "  $3Dmolpromise = loadScriptAsync('https://3dmol.csb.pitt.edu/build/3Dmol.js');\n",
       "}\n",
       "\n",
       "var viewer_16085574398765867 = null;\n",
       "var warn = document.getElementById(\"3dmolwarning_16085574398765867\");\n",
       "if(warn) {\n",
       "    warn.parentNode.removeChild(warn);\n",
       "}\n",
       "$3Dmolpromise.then(function() {\n",
       "viewer_16085574398765867 = $3Dmol.createViewer($(\"#3dmolviewer_16085574398765867\"),{backgroundColor:\"white\"});\n",
       "$3Dmol.download(\"pdb:1ycr\", viewer_16085574398765867, {}, function() {\n",
       "\tviewer_16085574398765867.setStyle({\"chain\": \"A\"},{\"cartoon\": {\"color\": \"spectrum\"}});\n",
       "\tviewer_16085574398765867.addSurface(1,{\"opacity\": 0.7, \"color\": \"white\"},{\"chain\": \"A\"});\n",
       "\tviewer_16085574398765867.setStyle({\"chain\": \"B\"},{\"stick\": {}});\n",
       "viewer_16085574398765867.render();\n",
       "})\n",
       "});\n",
       "</script>"
      ]
     },
     "metadata": {},
     "output_type": "display_data"
    }
   ],
   "source": [
    "view = py3Dmol.view(query='pdb:1ycr')\n",
    "chA = {'chain':'A'}\n",
    "chB = {'chain':'B'}\n",
    "view.setStyle(chA,{'cartoon': {'color':'spectrum'}})\n",
    "view.addSurface(py3Dmol.VDW,{'opacity':0.7,'color':'white'}, chA)\n",
    "view.setStyle(chB,{'stick':{}})\n",
    "view.show()"
   ]
  },
  {
   "cell_type": "code",
   "execution_count": null,
   "metadata": {},
   "outputs": [],
   "source": []
  }
 ],
 "metadata": {
  "kernelspec": {
   "display_name": "Python 3",
   "language": "python",
   "name": "python3"
  },
  "language_info": {
   "codemirror_mode": {
    "name": "ipython",
    "version": 3
   },
   "file_extension": ".py",
   "mimetype": "text/x-python",
   "name": "python",
   "nbconvert_exporter": "python",
   "pygments_lexer": "ipython3",
   "version": "3.6.12"
  },
  "varInspector": {
   "cols": {
    "lenName": 16,
    "lenType": 16,
    "lenVar": 40
   },
   "kernels_config": {
    "python": {
     "delete_cmd_postfix": "",
     "delete_cmd_prefix": "del ",
     "library": "var_list.py",
     "varRefreshCmd": "print(var_dic_list())"
    },
    "r": {
     "delete_cmd_postfix": ") ",
     "delete_cmd_prefix": "rm(",
     "library": "var_list.r",
     "varRefreshCmd": "cat(var_dic_list()) "
    }
   },
   "types_to_exclude": [
    "module",
    "function",
    "builtin_function_or_method",
    "instance",
    "_Feature"
   ],
   "window_display": false
  }
 },
 "nbformat": 4,
 "nbformat_minor": 4
}
