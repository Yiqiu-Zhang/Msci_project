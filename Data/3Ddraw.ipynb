{
 "cells": [
  {
   "cell_type": "code",
   "execution_count": 2,
   "metadata": {
    "scrolled": true
   },
   "outputs": [
    {
     "data": {
      "application/3dmoljs_load.v0": "<div id=\"3dmolviewer_16115871817097661\"  style=\"position: relative; width: 400px; height: 400px\">\n        <p id=\"3dmolwarning_16115871817097661\" style=\"background-color:#ffcccc;color:black\">You appear to be running in JupyterLab (or JavaScript failed to load for some other reason).  You need to install the 3dmol extension: <br>\n        <tt>jupyter labextension install jupyterlab_3dmol</tt></p>\n        </div>\n<script>\n\nvar loadScriptAsync = function(uri){\n  return new Promise((resolve, reject) => {\n    var tag = document.createElement('script');\n    tag.src = uri;\n    tag.async = true;\n    tag.onload = () => {\n      resolve();\n    };\n  var firstScriptTag = document.getElementsByTagName('script')[0];\n  firstScriptTag.parentNode.insertBefore(tag, firstScriptTag);\n});\n};\n\nif(typeof $3Dmolpromise === 'undefined') {\n$3Dmolpromise = null;\n  $3Dmolpromise = loadScriptAsync('https://3dmol.csb.pitt.edu/build/3Dmol.js');\n}\n\nvar viewer_16115871817097661 = null;\nvar warn = document.getElementById(\"3dmolwarning_16115871817097661\");\nif(warn) {\n    warn.parentNode.removeChild(warn);\n}\n$3Dmolpromise.then(function() {\nvar viewergrid_16115871817097661 = null;\nviewergrid_16115871817097661 = $3Dmol.createViewerGrid($(\"#3dmolviewer_16115871817097661\"),{rows: 1, cols: 2, control_all: true},{backgroundColor:\"white\"});\nviewer_16115871817097661 = viewergrid_16115871817097661[0][0];\n\tviewergrid_16115871817097661[0][0].removeAllModels();\n\tviewergrid_16115871817097661[0][1].removeAllModels();\n\tviewergrid_16115871817097661[0][0].addModel(\"\\n     RDKit          3D\\n\\n 20 22  0  0  0  0  0  0  0  0999 V2000\\n   -5.0732    0.2011    1.9964 Cl  0  0  0  0  0  0  0  0  0  0  0  0\\n   -4.4070    0.1003    0.3744 C   0  0  0  0  0  0  0  0  0  0  0  0\\n   -4.8397   -0.9254   -0.4581 C   0  0  0  0  0  0  0  0  0  0  0  0\\n   -4.1849   -1.2504   -1.6191 C   0  0  0  0  0  0  0  0  0  0  0  0\\n   -3.0623   -0.5521   -2.0018 C   0  0  0  0  0  0  0  0  0  0  0  0\\n   -1.9684   -1.2494   -3.1919 Cl  0  0  0  0  0  0  0  0  0  0  0  0\\n   -2.4593    0.2487   -1.0405 C   0  0  0  0  0  0  0  0  0  0  0  0\\n   -1.0737    0.6040   -1.1118 N   0  0  0  0  0  0  0  0  0  0  0  0\\n   -0.1474    0.0880   -0.1455 C   0  0  0  0  0  0  0  0  0  0  0  0\\n    1.0891   -0.4162   -0.3790 N   0  0  0  0  0  0  0  0  0  0  0  0\\n    1.8399   -0.4453    0.7153 C   0  0  0  0  0  0  0  0  0  0  0  0\\n    3.2952   -0.2318    0.7469 C   0  0  0  0  0  0  0  0  0  0  0  0\\n    3.9214    0.3644    1.8362 C   0  0  0  0  0  0  0  0  0  0  0  0\\n    4.8533    1.3757    1.6333 C   0  0  0  0  0  0  0  0  0  0  0  0\\n    5.4775    1.5173    0.4003 C   0  0  0  0  0  0  0  0  0  0  0  0\\n    5.2054    0.5263   -0.5336 C   0  0  0  0  0  0  0  0  0  0  0  0\\n    4.0345   -0.2023   -0.4300 C   0  0  0  0  0  0  0  0  0  0  0  0\\n    1.1712   -1.0169    1.7926 C   0  0  0  0  0  0  0  0  0  0  0  0\\n   -0.4524   -0.6127    1.3939 S   0  0  0  0  0  0  0  0  0  0  0  0\\n   -3.2192    0.7028    0.0221 C   0  0  0  0  0  0  0  0  0  0  0  0\\n  1  2  1  0\\n  2  3  2  0\\n  3  4  1  0\\n  4  5  2  0\\n  5  6  1  0\\n  5  7  1  0\\n  7  8  1  0\\n  8  9  1  0\\n  9 10  2  0\\n 10 11  1  0\\n 11 12  1  0\\n 12 13  2  0\\n 13 14  1  0\\n 14 15  2  0\\n 15 16  1  0\\n 16 17  2  0\\n 11 18  2  0\\n 18 19  1  0\\n  7 20  2  0\\n 20  2  1  0\\n 19  9  1  0\\n 17 12  1  0\\nM  END\\n\",\"sdf\");\n\tviewergrid_16115871817097661[0][0].setStyle({\"stick\": {}});\n\tviewergrid_16115871817097661[0][0].addSurface(1,{\"opacity\": 0.7, \"color\": \"white\"});\n\tviewergrid_16115871817097661[0][0].setBackgroundColor(\"0xeeeeee\");\n\tviewergrid_16115871817097661[0][1].setBackgroundColor(\"0xeeeeee\");\n\tviewergrid_16115871817097661[0][1].addModel(\"\\n     RDKit          3D\\n\\n 24 27  0  0  0  0  0  0  0  0999 V2000\\n    6.7397   -0.3769    0.7721 C   0  0  0  0  0  0  0  0  0  0  0  0\\n    5.9149   -0.6306   -0.3580 O   0  0  0  0  0  0  0  0  0  0  0  0\\n    4.5640   -0.5252   -0.1744 C   0  0  0  0  0  0  0  0  0  0  0  0\\n    3.7957   -0.8495   -1.2954 C   0  0  0  0  0  0  0  0  0  0  0  0\\n    2.4008   -0.7839   -1.2470 C   0  0  0  0  0  0  0  0  0  0  0  0\\n    1.7568   -0.3768   -0.0758 C   0  0  0  0  0  0  0  0  0  0  0  0\\n    0.2980   -0.3064   -0.0339 C   0  0  0  0  0  0  0  0  0  0  0  0\\n   -0.4911   -1.3572   -0.1295 N   0  0  0  0  0  0  0  0  0  0  0  0\\n   -1.7774   -0.8886   -0.0108 C   0  0  0  0  0  0  0  0  0  0  0  0\\n   -3.0043   -1.6010   -0.0184 C   0  0  0  0  0  0  0  0  0  0  0  0\\n   -3.0144   -3.0006   -0.1671 C   0  0  0  0  0  0  0  0  0  0  0  0\\n   -4.2245   -3.6926   -0.1727 C   0  0  0  0  0  0  0  0  0  0  0  0\\n   -5.4248   -2.9975   -0.0304 C   0  0  0  0  0  0  0  0  0  0  0  0\\n   -5.4226   -1.6067    0.1184 C   0  0  0  0  0  0  0  0  0  0  0  0\\n   -4.2165   -0.8875    0.1271 C   0  0  0  0  0  0  0  0  0  0  0  0\\n   -4.1828    0.5063    0.2756 C   0  0  0  0  0  0  0  0  0  0  0  0\\n   -2.9766    1.2207    0.2820 C   0  0  0  0  0  0  0  0  0  0  0  0\\n   -1.7850    0.4972    0.1350 C   0  0  0  0  0  0  0  0  0  0  0  0\\n   -0.4503    0.8555    0.0827 N   0  0  0  0  0  0  0  0  0  0  0  0\\n    0.0911    2.2137    0.0996 C   0  0  0  0  0  0  0  0  0  0  0  0\\n   -0.1289    2.9088    1.4433 C   0  0  0  0  0  0  0  0  0  0  0  0\\n   -0.4017    3.0610   -1.0754 C   0  0  0  0  0  0  0  0  0  0  0  0\\n    2.5257   -0.0674    1.0526 C   0  0  0  0  0  0  0  0  0  0  0  0\\n    3.9233   -0.1367    1.0028 C   0  0  0  0  0  0  0  0  0  0  0  0\\n  1  2  1  0\\n  2  3  1  0\\n  3  4  2  0\\n  4  5  1  0\\n  5  6  2  0\\n  6  7  1  0\\n  7  8  2  0\\n  8  9  1  0\\n  9 10  2  0\\n 10 11  1  0\\n 11 12  2  0\\n 12 13  1  0\\n 13 14  2  0\\n 14 15  1  0\\n 15 16  2  0\\n 16 17  1  0\\n 17 18  2  0\\n 18 19  1  0\\n 19 20  1  0\\n 20 21  1  0\\n 20 22  1  0\\n  6 23  1  0\\n 23 24  2  0\\n 24  3  1  0\\n 19  7  1  0\\n 18  9  1  0\\n 15 10  1  0\\nM  END\\n\",\"sdf\");\n\tviewergrid_16115871817097661[0][1].setStyle({\"stick\": {}});\n\tviewergrid_16115871817097661[0][1].addSurface(1,{\"opacity\": 0.7, \"color\": \"white\"});\n\tviewergrid_16115871817097661[0][0].setBackgroundColor(\"0xeeeeee\");\n\tviewergrid_16115871817097661[0][1].setBackgroundColor(\"0xeeeeee\");\n\tviewergrid_16115871817097661[0][0].zoomTo();\n\tviewergrid_16115871817097661[0][1].zoomTo();\n\tviewergrid_16115871817097661[0][0].savefig(\"test.png\");\n\tviewergrid_16115871817097661[0][1].savefig(\"test.png\");\nviewergrid_16115871817097661[0][1].render();\nviewergrid_16115871817097661[0][0].render();\n});\n</script>",
      "text/html": [
       "<div id=\"3dmolviewer_16115871817097661\"  style=\"position: relative; width: 400px; height: 400px\">\n",
       "        <p id=\"3dmolwarning_16115871817097661\" style=\"background-color:#ffcccc;color:black\">You appear to be running in JupyterLab (or JavaScript failed to load for some other reason).  You need to install the 3dmol extension: <br>\n",
       "        <tt>jupyter labextension install jupyterlab_3dmol</tt></p>\n",
       "        </div>\n",
       "<script>\n",
       "\n",
       "var loadScriptAsync = function(uri){\n",
       "  return new Promise((resolve, reject) => {\n",
       "    var tag = document.createElement('script');\n",
       "    tag.src = uri;\n",
       "    tag.async = true;\n",
       "    tag.onload = () => {\n",
       "      resolve();\n",
       "    };\n",
       "  var firstScriptTag = document.getElementsByTagName('script')[0];\n",
       "  firstScriptTag.parentNode.insertBefore(tag, firstScriptTag);\n",
       "});\n",
       "};\n",
       "\n",
       "if(typeof $3Dmolpromise === 'undefined') {\n",
       "$3Dmolpromise = null;\n",
       "  $3Dmolpromise = loadScriptAsync('https://3dmol.csb.pitt.edu/build/3Dmol.js');\n",
       "}\n",
       "\n",
       "var viewer_16115871817097661 = null;\n",
       "var warn = document.getElementById(\"3dmolwarning_16115871817097661\");\n",
       "if(warn) {\n",
       "    warn.parentNode.removeChild(warn);\n",
       "}\n",
       "$3Dmolpromise.then(function() {\n",
       "var viewergrid_16115871817097661 = null;\n",
       "viewergrid_16115871817097661 = $3Dmol.createViewerGrid($(\"#3dmolviewer_16115871817097661\"),{rows: 1, cols: 2, control_all: true},{backgroundColor:\"white\"});\n",
       "viewer_16115871817097661 = viewergrid_16115871817097661[0][0];\n",
       "\tviewergrid_16115871817097661[0][0].removeAllModels();\n",
       "\tviewergrid_16115871817097661[0][1].removeAllModels();\n",
       "\tviewergrid_16115871817097661[0][0].addModel(\"\\n     RDKit          3D\\n\\n 20 22  0  0  0  0  0  0  0  0999 V2000\\n   -5.0732    0.2011    1.9964 Cl  0  0  0  0  0  0  0  0  0  0  0  0\\n   -4.4070    0.1003    0.3744 C   0  0  0  0  0  0  0  0  0  0  0  0\\n   -4.8397   -0.9254   -0.4581 C   0  0  0  0  0  0  0  0  0  0  0  0\\n   -4.1849   -1.2504   -1.6191 C   0  0  0  0  0  0  0  0  0  0  0  0\\n   -3.0623   -0.5521   -2.0018 C   0  0  0  0  0  0  0  0  0  0  0  0\\n   -1.9684   -1.2494   -3.1919 Cl  0  0  0  0  0  0  0  0  0  0  0  0\\n   -2.4593    0.2487   -1.0405 C   0  0  0  0  0  0  0  0  0  0  0  0\\n   -1.0737    0.6040   -1.1118 N   0  0  0  0  0  0  0  0  0  0  0  0\\n   -0.1474    0.0880   -0.1455 C   0  0  0  0  0  0  0  0  0  0  0  0\\n    1.0891   -0.4162   -0.3790 N   0  0  0  0  0  0  0  0  0  0  0  0\\n    1.8399   -0.4453    0.7153 C   0  0  0  0  0  0  0  0  0  0  0  0\\n    3.2952   -0.2318    0.7469 C   0  0  0  0  0  0  0  0  0  0  0  0\\n    3.9214    0.3644    1.8362 C   0  0  0  0  0  0  0  0  0  0  0  0\\n    4.8533    1.3757    1.6333 C   0  0  0  0  0  0  0  0  0  0  0  0\\n    5.4775    1.5173    0.4003 C   0  0  0  0  0  0  0  0  0  0  0  0\\n    5.2054    0.5263   -0.5336 C   0  0  0  0  0  0  0  0  0  0  0  0\\n    4.0345   -0.2023   -0.4300 C   0  0  0  0  0  0  0  0  0  0  0  0\\n    1.1712   -1.0169    1.7926 C   0  0  0  0  0  0  0  0  0  0  0  0\\n   -0.4524   -0.6127    1.3939 S   0  0  0  0  0  0  0  0  0  0  0  0\\n   -3.2192    0.7028    0.0221 C   0  0  0  0  0  0  0  0  0  0  0  0\\n  1  2  1  0\\n  2  3  2  0\\n  3  4  1  0\\n  4  5  2  0\\n  5  6  1  0\\n  5  7  1  0\\n  7  8  1  0\\n  8  9  1  0\\n  9 10  2  0\\n 10 11  1  0\\n 11 12  1  0\\n 12 13  2  0\\n 13 14  1  0\\n 14 15  2  0\\n 15 16  1  0\\n 16 17  2  0\\n 11 18  2  0\\n 18 19  1  0\\n  7 20  2  0\\n 20  2  1  0\\n 19  9  1  0\\n 17 12  1  0\\nM  END\\n\",\"sdf\");\n",
       "\tviewergrid_16115871817097661[0][0].setStyle({\"stick\": {}});\n",
       "\tviewergrid_16115871817097661[0][0].addSurface(1,{\"opacity\": 0.7, \"color\": \"white\"});\n",
       "\tviewergrid_16115871817097661[0][0].setBackgroundColor(\"0xeeeeee\");\n",
       "\tviewergrid_16115871817097661[0][1].setBackgroundColor(\"0xeeeeee\");\n",
       "\tviewergrid_16115871817097661[0][1].addModel(\"\\n     RDKit          3D\\n\\n 24 27  0  0  0  0  0  0  0  0999 V2000\\n    6.7397   -0.3769    0.7721 C   0  0  0  0  0  0  0  0  0  0  0  0\\n    5.9149   -0.6306   -0.3580 O   0  0  0  0  0  0  0  0  0  0  0  0\\n    4.5640   -0.5252   -0.1744 C   0  0  0  0  0  0  0  0  0  0  0  0\\n    3.7957   -0.8495   -1.2954 C   0  0  0  0  0  0  0  0  0  0  0  0\\n    2.4008   -0.7839   -1.2470 C   0  0  0  0  0  0  0  0  0  0  0  0\\n    1.7568   -0.3768   -0.0758 C   0  0  0  0  0  0  0  0  0  0  0  0\\n    0.2980   -0.3064   -0.0339 C   0  0  0  0  0  0  0  0  0  0  0  0\\n   -0.4911   -1.3572   -0.1295 N   0  0  0  0  0  0  0  0  0  0  0  0\\n   -1.7774   -0.8886   -0.0108 C   0  0  0  0  0  0  0  0  0  0  0  0\\n   -3.0043   -1.6010   -0.0184 C   0  0  0  0  0  0  0  0  0  0  0  0\\n   -3.0144   -3.0006   -0.1671 C   0  0  0  0  0  0  0  0  0  0  0  0\\n   -4.2245   -3.6926   -0.1727 C   0  0  0  0  0  0  0  0  0  0  0  0\\n   -5.4248   -2.9975   -0.0304 C   0  0  0  0  0  0  0  0  0  0  0  0\\n   -5.4226   -1.6067    0.1184 C   0  0  0  0  0  0  0  0  0  0  0  0\\n   -4.2165   -0.8875    0.1271 C   0  0  0  0  0  0  0  0  0  0  0  0\\n   -4.1828    0.5063    0.2756 C   0  0  0  0  0  0  0  0  0  0  0  0\\n   -2.9766    1.2207    0.2820 C   0  0  0  0  0  0  0  0  0  0  0  0\\n   -1.7850    0.4972    0.1350 C   0  0  0  0  0  0  0  0  0  0  0  0\\n   -0.4503    0.8555    0.0827 N   0  0  0  0  0  0  0  0  0  0  0  0\\n    0.0911    2.2137    0.0996 C   0  0  0  0  0  0  0  0  0  0  0  0\\n   -0.1289    2.9088    1.4433 C   0  0  0  0  0  0  0  0  0  0  0  0\\n   -0.4017    3.0610   -1.0754 C   0  0  0  0  0  0  0  0  0  0  0  0\\n    2.5257   -0.0674    1.0526 C   0  0  0  0  0  0  0  0  0  0  0  0\\n    3.9233   -0.1367    1.0028 C   0  0  0  0  0  0  0  0  0  0  0  0\\n  1  2  1  0\\n  2  3  1  0\\n  3  4  2  0\\n  4  5  1  0\\n  5  6  2  0\\n  6  7  1  0\\n  7  8  2  0\\n  8  9  1  0\\n  9 10  2  0\\n 10 11  1  0\\n 11 12  2  0\\n 12 13  1  0\\n 13 14  2  0\\n 14 15  1  0\\n 15 16  2  0\\n 16 17  1  0\\n 17 18  2  0\\n 18 19  1  0\\n 19 20  1  0\\n 20 21  1  0\\n 20 22  1  0\\n  6 23  1  0\\n 23 24  2  0\\n 24  3  1  0\\n 19  7  1  0\\n 18  9  1  0\\n 15 10  1  0\\nM  END\\n\",\"sdf\");\n",
       "\tviewergrid_16115871817097661[0][1].setStyle({\"stick\": {}});\n",
       "\tviewergrid_16115871817097661[0][1].addSurface(1,{\"opacity\": 0.7, \"color\": \"white\"});\n",
       "\tviewergrid_16115871817097661[0][0].setBackgroundColor(\"0xeeeeee\");\n",
       "\tviewergrid_16115871817097661[0][1].setBackgroundColor(\"0xeeeeee\");\n",
       "\tviewergrid_16115871817097661[0][0].zoomTo();\n",
       "\tviewergrid_16115871817097661[0][1].zoomTo();\n",
       "\tviewergrid_16115871817097661[0][0].savefig(\"test.png\");\n",
       "\tviewergrid_16115871817097661[0][1].savefig(\"test.png\");\n",
       "viewergrid_16115871817097661[0][1].render();\n",
       "viewergrid_16115871817097661[0][0].render();\n",
       "});\n",
       "</script>"
      ]
     },
     "metadata": {},
     "output_type": "display_data"
    }
   ],
   "source": [
    "import py3Dmol\n",
    "def drawit(ref,db,p=None,confId=-1):\n",
    "        refMol = Chem.MolToMolBlock(ref,confId=confId)\n",
    "        dbMol = Chem.MolToMolBlock(db,confId=confId)\n",
    "        if p is None:\n",
    "            p = py3Dmol.view(width=400,height=400,viewergrid=(1,2))\n",
    "        p.removeAllModels()\n",
    "        #p.setViewStyle({'style':'outline','color':'black','width':0.3})\n",
    "        p.addModel(dbMol,'sdf',viewer=(0,0))\n",
    "        p.setStyle({'stick':{}},viewer=(0,0))\n",
    "        p.addSurface(py3Dmol.VDW,{'opacity':0.7,'color':'white'}, viewer=(0,0))\n",
    "        p.setBackgroundColor('0xeeeeee')\n",
    "        p.addModel(refMol,'sdf',viewer=(0,1))\n",
    "        p.setStyle({'stick':{}},viewer=(0,1))\n",
    "        p.addSurface(py3Dmol.VDW,{'opacity':0.7,'color':'white'}, viewer=(0,1))\n",
    "        p.setBackgroundColor('0xeeeeee')\n",
    "        p.zoomTo()\n",
    "        p.savefig('test.png')\n",
    "        return p.show()\n",
    "    \n",
    "import numpy as np\n",
    "#from openbabel import openbabel\n",
    "from rdkit import Chem\n",
    "from rdkit.Chem import AllChem\n",
    "\n",
    "refMol = Chem.MolFromMolFile('ref.mol')\n",
    "dbMol = Chem.MolFromMolFile('db.mol')\n",
    "drawit(refMol,dbMol)\n"
   ]
  },
  {
   "cell_type": "code",
   "execution_count": 3,
   "metadata": {},
   "outputs": [
    {
     "ename": "NameError",
     "evalue": "name 'fig' is not defined",
     "output_type": "error",
     "traceback": [
      "\u001b[1;31m---------------------------------------------------------------------------\u001b[0m",
      "\u001b[1;31mNameError\u001b[0m                                 Traceback (most recent call last)",
      "\u001b[1;32m<ipython-input-3-b6c8be0d4170>\u001b[0m in \u001b[0;36m<module>\u001b[1;34m\u001b[0m\n\u001b[1;32m----> 1\u001b[1;33m \u001b[0mfig\u001b[0m\u001b[1;33m.\u001b[0m\u001b[0msavefig\u001b[0m\u001b[1;33m(\u001b[0m\u001b[1;34m'test.png'\u001b[0m\u001b[1;33m)\u001b[0m\u001b[1;33m\u001b[0m\u001b[1;33m\u001b[0m\u001b[0m\n\u001b[0m",
      "\u001b[1;31mNameError\u001b[0m: name 'fig' is not defined"
     ]
    }
   ],
   "source": []
  },
  {
   "cell_type": "code",
   "execution_count": null,
   "metadata": {},
   "outputs": [],
   "source": []
  }
 ],
 "metadata": {
  "kernelspec": {
   "display_name": "Python 3",
   "language": "python",
   "name": "python3"
  },
  "language_info": {
   "codemirror_mode": {
    "name": "ipython",
    "version": 3
   },
   "file_extension": ".py",
   "mimetype": "text/x-python",
   "name": "python",
   "nbconvert_exporter": "python",
   "pygments_lexer": "ipython3",
   "version": "3.6.12"
  },
  "varInspector": {
   "cols": {
    "lenName": 16,
    "lenType": 16,
    "lenVar": 40
   },
   "kernels_config": {
    "python": {
     "delete_cmd_postfix": "",
     "delete_cmd_prefix": "del ",
     "library": "var_list.py",
     "varRefreshCmd": "print(var_dic_list())"
    },
    "r": {
     "delete_cmd_postfix": ") ",
     "delete_cmd_prefix": "rm(",
     "library": "var_list.r",
     "varRefreshCmd": "cat(var_dic_list()) "
    }
   },
   "types_to_exclude": [
    "module",
    "function",
    "builtin_function_or_method",
    "instance",
    "_Feature"
   ],
   "window_display": false
  }
 },
 "nbformat": 4,
 "nbformat_minor": 4
}
