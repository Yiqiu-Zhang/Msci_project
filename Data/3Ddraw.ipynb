{
 "cells": [
  {
   "cell_type": "code",
   "execution_count": 7,
   "metadata": {
    "scrolled": true
   },
   "outputs": [
    {
     "data": {
      "application/3dmoljs_load.v0": "<div id=\"3dmolviewer_16100394857606103\"  style=\"position: relative; width: 400px; height: 400px\">\n        <p id=\"3dmolwarning_16100394857606103\" style=\"background-color:#ffcccc;color:black\">You appear to be running in JupyterLab (or JavaScript failed to load for some other reason).  You need to install the 3dmol extension: <br>\n        <tt>jupyter labextension install jupyterlab_3dmol</tt></p>\n        </div>\n<script>\n\nvar loadScriptAsync = function(uri){\n  return new Promise((resolve, reject) => {\n    var tag = document.createElement('script');\n    tag.src = uri;\n    tag.async = true;\n    tag.onload = () => {\n      resolve();\n    };\n  var firstScriptTag = document.getElementsByTagName('script')[0];\n  firstScriptTag.parentNode.insertBefore(tag, firstScriptTag);\n});\n};\n\nif(typeof $3Dmolpromise === 'undefined') {\n$3Dmolpromise = null;\n  $3Dmolpromise = loadScriptAsync('https://3dmol.csb.pitt.edu/build/3Dmol.js');\n}\n\nvar viewer_16100394857606103 = null;\nvar warn = document.getElementById(\"3dmolwarning_16100394857606103\");\nif(warn) {\n    warn.parentNode.removeChild(warn);\n}\n$3Dmolpromise.then(function() {\nvar viewergrid_16100394857606103 = null;\nviewergrid_16100394857606103 = $3Dmol.createViewerGrid($(\"#3dmolviewer_16100394857606103\"),{rows: 1, cols: 2, control_all: true},{backgroundColor:\"white\"});\nviewer_16100394857606103 = viewergrid_16100394857606103[0][0];\n\tviewergrid_16100394857606103[0][0].removeAllModels();\n\tviewergrid_16100394857606103[0][1].removeAllModels();\n\tviewergrid_16100394857606103[0][0].addModel(\"\\n     RDKit          3D\\n\\n 24 26  0  0  0  0  0  0  0  0999 V2000\\n   -0.9531   -2.0870   -2.4506 C   0  0  0  0  0  0  0  0  0  0  0  0\\n   -1.8997   -2.3237   -1.2918 C   0  0  0  0  0  0  0  0  0  0  0  0\\n   -1.2109   -1.8025   -0.0703 C   0  0  0  0  0  0  0  0  0  0  0  0\\n    0.1054   -2.1579    0.1958 C   0  0  0  0  0  0  0  0  0  0  0  0\\n    0.9352   -1.3678    0.9798 C   0  0  0  0  0  0  0  0  0  0  0  0\\n    2.4213   -1.3694    0.8217 C   0  0  0  0  0  0  0  0  0  0  0  0\\n    2.8590   -0.3658   -0.1315 N   0  0  0  0  0  0  0  0  0  0  0  0\\n    4.1457    0.2148    0.0386 C   0  0  0  0  0  0  0  0  0  0  0  0\\n    4.2989    1.5794    0.2268 C   0  0  0  0  0  0  0  0  0  0  0  0\\n    5.5843    2.0119    0.5247 C   0  0  0  0  0  0  0  0  0  0  0  0\\n    6.6432    1.2037    0.4634 N   0  0  0  0  0  0  0  0  0  0  0  0\\n    6.4562   -0.1181    0.5447 C   0  0  0  0  0  0  0  0  0  0  0  0\\n    5.1886   -0.6298    0.3895 C   0  0  0  0  0  0  0  0  0  0  0  0\\n    0.3655   -0.1940    1.4610 C   0  0  0  0  0  0  0  0  0  0  0  0\\n   -0.9876    0.0314    1.3935 C   0  0  0  0  0  0  0  0  0  0  0  0\\n   -1.8081   -0.8340    0.7180 C   0  0  0  0  0  0  0  0  0  0  0  0\\n   -3.1169   -0.4589    0.4104 O   0  0  0  0  0  0  0  0  0  0  0  0\\n   -3.3765   -0.2617   -0.9750 C   0  0  0  0  0  0  0  0  0  0  0  0\\n   -3.5981    1.1738   -1.3288 C   0  0  0  0  0  0  0  0  0  0  0  0\\n   -4.8640    1.3792   -2.0694 C   0  0  0  0  0  0  0  0  0  0  0  0\\n   -5.6011    2.6401   -1.7387 C   0  0  0  0  0  0  0  0  0  0  0  0\\n   -5.6625    2.7499   -0.2392 C   0  0  0  0  0  0  0  0  0  0  0  0\\n   -4.2854    2.9895    0.2916 C   0  0  0  0  0  0  0  0  0  0  0  0\\n   -3.2132    2.1644   -0.3186 C   0  0  0  0  0  0  0  0  0  0  0  0\\n  1  2  1  0\\n  2  3  1  0\\n  3  4  2  0\\n  4  5  1  0\\n  5  6  1  0\\n  6  7  1  0\\n  7  8  1  0\\n  8  9  2  0\\n  9 10  1  0\\n 10 11  2  0\\n 11 12  1  0\\n 12 13  2  0\\n  5 14  2  0\\n 14 15  1  0\\n 15 16  2  0\\n 16 17  1  0\\n 17 18  1  0\\n 18 19  1  0\\n 19 20  1  0\\n 20 21  1  0\\n 21 22  1  0\\n 22 23  1  0\\n 23 24  1  0\\n 16  3  1  0\\n 24 19  1  0\\n 13  8  1  0\\nM  END\\n\",\"sdf\");\n\tviewergrid_16100394857606103[0][0].setStyle({\"stick\": {}});\n\tviewergrid_16100394857606103[0][0].addSurface(1,{\"opacity\": 0.7, \"color\": \"white\"});\n\tviewergrid_16100394857606103[0][0].setBackgroundColor(\"0xeeeeee\");\n\tviewergrid_16100394857606103[0][1].setBackgroundColor(\"0xeeeeee\");\n\tviewergrid_16100394857606103[0][1].addModel(\"\\n     RDKit          3D\\n\\n 24 27  0  0  0  0  0  0  0  0999 V2000\\n    6.5205    0.9380    0.5060 C   0  0  0  0  0  0  0  0  0  0  0  0\\n    5.5570    0.3333    1.3594 O   0  0  0  0  0  0  0  0  0  0  0  0\\n    4.2607    0.3325    0.9241 C   0  0  0  0  0  0  0  0  0  0  0  0\\n    3.3438   -0.2185    1.8231 C   0  0  0  0  0  0  0  0  0  0  0  0\\n    1.9845   -0.2850    1.5054 C   0  0  0  0  0  0  0  0  0  0  0  0\\n    1.5291    0.1817    0.2701 C   0  0  0  0  0  0  0  0  0  0  0  0\\n    0.1126    0.1309   -0.0754 C   0  0  0  0  0  0  0  0  0  0  0  0\\n   -0.6747    1.1880   -0.0265 N   0  0  0  0  0  0  0  0  0  0  0  0\\n   -1.9294    0.7599   -0.3827 C   0  0  0  0  0  0  0  0  0  0  0  0\\n   -3.1464    1.4831   -0.4701 C   0  0  0  0  0  0  0  0  0  0  0  0\\n   -3.1810    2.8583   -0.1724 C   0  0  0  0  0  0  0  0  0  0  0  0\\n   -4.3820    3.5604   -0.2605 C   0  0  0  0  0  0  0  0  0  0  0  0\\n   -5.5487    2.8994   -0.6430 C   0  0  0  0  0  0  0  0  0  0  0  0\\n   -5.5221    1.5327   -0.9393 C   0  0  0  0  0  0  0  0  0  0  0  0\\n   -4.3248    0.8035   -0.8581 C   0  0  0  0  0  0  0  0  0  0  0  0\\n   -4.2681   -0.5681   -1.1468 C   0  0  0  0  0  0  0  0  0  0  0  0\\n   -3.0705   -1.2922   -1.0658 C   0  0  0  0  0  0  0  0  0  0  0  0\\n   -1.9136   -0.5980   -0.6837 C   0  0  0  0  0  0  0  0  0  0  0  0\\n   -0.5907   -0.9790   -0.5132 N   0  0  0  0  0  0  0  0  0  0  0  0\\n   -0.0957   -2.3285   -0.7813 C   0  0  0  0  0  0  0  0  0  0  0  0\\n    1.1829   -2.3922   -1.6190 C   0  0  0  0  0  0  0  0  0  0  0  0\\n    0.0158   -3.1659    0.4916 C   0  0  0  0  0  0  0  0  0  0  0  0\\n    2.4437    0.7588   -0.6188 C   0  0  0  0  0  0  0  0  0  0  0  0\\n    3.8046    0.8269   -0.2980 C   0  0  0  0  0  0  0  0  0  0  0  0\\n  1  2  1  0\\n  2  3  1  0\\n  3  4  2  0\\n  4  5  1  0\\n  5  6  2  0\\n  6  7  1  0\\n  7  8  2  0\\n  8  9  1  0\\n  9 10  2  0\\n 10 11  1  0\\n 11 12  2  0\\n 12 13  1  0\\n 13 14  2  0\\n 14 15  1  0\\n 15 16  2  0\\n 16 17  1  0\\n 17 18  2  0\\n 18 19  1  0\\n 19 20  1  0\\n 20 21  1  0\\n 20 22  1  0\\n  6 23  1  0\\n 23 24  2  0\\n 24  3  1  0\\n 19  7  1  0\\n 18  9  1  0\\n 15 10  1  0\\nM  END\\n\",\"sdf\");\n\tviewergrid_16100394857606103[0][1].setStyle({\"stick\": {}});\n\tviewergrid_16100394857606103[0][1].addSurface(1,{\"opacity\": 0.7, \"color\": \"white\"});\n\tviewergrid_16100394857606103[0][0].setBackgroundColor(\"0xeeeeee\");\n\tviewergrid_16100394857606103[0][1].setBackgroundColor(\"0xeeeeee\");\n\tviewergrid_16100394857606103[0][0].zoomTo();\n\tviewergrid_16100394857606103[0][1].zoomTo();\n\tviewergrid_16100394857606103[0][0].savefig(\"test.png\");\n\tviewergrid_16100394857606103[0][1].savefig(\"test.png\");\nviewergrid_16100394857606103[0][1].render();\nviewergrid_16100394857606103[0][0].render();\n});\n</script>",
      "text/html": [
       "<div id=\"3dmolviewer_16100394857606103\"  style=\"position: relative; width: 400px; height: 400px\">\n",
       "        <p id=\"3dmolwarning_16100394857606103\" style=\"background-color:#ffcccc;color:black\">You appear to be running in JupyterLab (or JavaScript failed to load for some other reason).  You need to install the 3dmol extension: <br>\n",
       "        <tt>jupyter labextension install jupyterlab_3dmol</tt></p>\n",
       "        </div>\n",
       "<script>\n",
       "\n",
       "var loadScriptAsync = function(uri){\n",
       "  return new Promise((resolve, reject) => {\n",
       "    var tag = document.createElement('script');\n",
       "    tag.src = uri;\n",
       "    tag.async = true;\n",
       "    tag.onload = () => {\n",
       "      resolve();\n",
       "    };\n",
       "  var firstScriptTag = document.getElementsByTagName('script')[0];\n",
       "  firstScriptTag.parentNode.insertBefore(tag, firstScriptTag);\n",
       "});\n",
       "};\n",
       "\n",
       "if(typeof $3Dmolpromise === 'undefined') {\n",
       "$3Dmolpromise = null;\n",
       "  $3Dmolpromise = loadScriptAsync('https://3dmol.csb.pitt.edu/build/3Dmol.js');\n",
       "}\n",
       "\n",
       "var viewer_16100394857606103 = null;\n",
       "var warn = document.getElementById(\"3dmolwarning_16100394857606103\");\n",
       "if(warn) {\n",
       "    warn.parentNode.removeChild(warn);\n",
       "}\n",
       "$3Dmolpromise.then(function() {\n",
       "var viewergrid_16100394857606103 = null;\n",
       "viewergrid_16100394857606103 = $3Dmol.createViewerGrid($(\"#3dmolviewer_16100394857606103\"),{rows: 1, cols: 2, control_all: true},{backgroundColor:\"white\"});\n",
       "viewer_16100394857606103 = viewergrid_16100394857606103[0][0];\n",
       "\tviewergrid_16100394857606103[0][0].removeAllModels();\n",
       "\tviewergrid_16100394857606103[0][1].removeAllModels();\n",
       "\tviewergrid_16100394857606103[0][0].addModel(\"\\n     RDKit          3D\\n\\n 24 26  0  0  0  0  0  0  0  0999 V2000\\n   -0.9531   -2.0870   -2.4506 C   0  0  0  0  0  0  0  0  0  0  0  0\\n   -1.8997   -2.3237   -1.2918 C   0  0  0  0  0  0  0  0  0  0  0  0\\n   -1.2109   -1.8025   -0.0703 C   0  0  0  0  0  0  0  0  0  0  0  0\\n    0.1054   -2.1579    0.1958 C   0  0  0  0  0  0  0  0  0  0  0  0\\n    0.9352   -1.3678    0.9798 C   0  0  0  0  0  0  0  0  0  0  0  0\\n    2.4213   -1.3694    0.8217 C   0  0  0  0  0  0  0  0  0  0  0  0\\n    2.8590   -0.3658   -0.1315 N   0  0  0  0  0  0  0  0  0  0  0  0\\n    4.1457    0.2148    0.0386 C   0  0  0  0  0  0  0  0  0  0  0  0\\n    4.2989    1.5794    0.2268 C   0  0  0  0  0  0  0  0  0  0  0  0\\n    5.5843    2.0119    0.5247 C   0  0  0  0  0  0  0  0  0  0  0  0\\n    6.6432    1.2037    0.4634 N   0  0  0  0  0  0  0  0  0  0  0  0\\n    6.4562   -0.1181    0.5447 C   0  0  0  0  0  0  0  0  0  0  0  0\\n    5.1886   -0.6298    0.3895 C   0  0  0  0  0  0  0  0  0  0  0  0\\n    0.3655   -0.1940    1.4610 C   0  0  0  0  0  0  0  0  0  0  0  0\\n   -0.9876    0.0314    1.3935 C   0  0  0  0  0  0  0  0  0  0  0  0\\n   -1.8081   -0.8340    0.7180 C   0  0  0  0  0  0  0  0  0  0  0  0\\n   -3.1169   -0.4589    0.4104 O   0  0  0  0  0  0  0  0  0  0  0  0\\n   -3.3765   -0.2617   -0.9750 C   0  0  0  0  0  0  0  0  0  0  0  0\\n   -3.5981    1.1738   -1.3288 C   0  0  0  0  0  0  0  0  0  0  0  0\\n   -4.8640    1.3792   -2.0694 C   0  0  0  0  0  0  0  0  0  0  0  0\\n   -5.6011    2.6401   -1.7387 C   0  0  0  0  0  0  0  0  0  0  0  0\\n   -5.6625    2.7499   -0.2392 C   0  0  0  0  0  0  0  0  0  0  0  0\\n   -4.2854    2.9895    0.2916 C   0  0  0  0  0  0  0  0  0  0  0  0\\n   -3.2132    2.1644   -0.3186 C   0  0  0  0  0  0  0  0  0  0  0  0\\n  1  2  1  0\\n  2  3  1  0\\n  3  4  2  0\\n  4  5  1  0\\n  5  6  1  0\\n  6  7  1  0\\n  7  8  1  0\\n  8  9  2  0\\n  9 10  1  0\\n 10 11  2  0\\n 11 12  1  0\\n 12 13  2  0\\n  5 14  2  0\\n 14 15  1  0\\n 15 16  2  0\\n 16 17  1  0\\n 17 18  1  0\\n 18 19  1  0\\n 19 20  1  0\\n 20 21  1  0\\n 21 22  1  0\\n 22 23  1  0\\n 23 24  1  0\\n 16  3  1  0\\n 24 19  1  0\\n 13  8  1  0\\nM  END\\n\",\"sdf\");\n",
       "\tviewergrid_16100394857606103[0][0].setStyle({\"stick\": {}});\n",
       "\tviewergrid_16100394857606103[0][0].addSurface(1,{\"opacity\": 0.7, \"color\": \"white\"});\n",
       "\tviewergrid_16100394857606103[0][0].setBackgroundColor(\"0xeeeeee\");\n",
       "\tviewergrid_16100394857606103[0][1].setBackgroundColor(\"0xeeeeee\");\n",
       "\tviewergrid_16100394857606103[0][1].addModel(\"\\n     RDKit          3D\\n\\n 24 27  0  0  0  0  0  0  0  0999 V2000\\n    6.5205    0.9380    0.5060 C   0  0  0  0  0  0  0  0  0  0  0  0\\n    5.5570    0.3333    1.3594 O   0  0  0  0  0  0  0  0  0  0  0  0\\n    4.2607    0.3325    0.9241 C   0  0  0  0  0  0  0  0  0  0  0  0\\n    3.3438   -0.2185    1.8231 C   0  0  0  0  0  0  0  0  0  0  0  0\\n    1.9845   -0.2850    1.5054 C   0  0  0  0  0  0  0  0  0  0  0  0\\n    1.5291    0.1817    0.2701 C   0  0  0  0  0  0  0  0  0  0  0  0\\n    0.1126    0.1309   -0.0754 C   0  0  0  0  0  0  0  0  0  0  0  0\\n   -0.6747    1.1880   -0.0265 N   0  0  0  0  0  0  0  0  0  0  0  0\\n   -1.9294    0.7599   -0.3827 C   0  0  0  0  0  0  0  0  0  0  0  0\\n   -3.1464    1.4831   -0.4701 C   0  0  0  0  0  0  0  0  0  0  0  0\\n   -3.1810    2.8583   -0.1724 C   0  0  0  0  0  0  0  0  0  0  0  0\\n   -4.3820    3.5604   -0.2605 C   0  0  0  0  0  0  0  0  0  0  0  0\\n   -5.5487    2.8994   -0.6430 C   0  0  0  0  0  0  0  0  0  0  0  0\\n   -5.5221    1.5327   -0.9393 C   0  0  0  0  0  0  0  0  0  0  0  0\\n   -4.3248    0.8035   -0.8581 C   0  0  0  0  0  0  0  0  0  0  0  0\\n   -4.2681   -0.5681   -1.1468 C   0  0  0  0  0  0  0  0  0  0  0  0\\n   -3.0705   -1.2922   -1.0658 C   0  0  0  0  0  0  0  0  0  0  0  0\\n   -1.9136   -0.5980   -0.6837 C   0  0  0  0  0  0  0  0  0  0  0  0\\n   -0.5907   -0.9790   -0.5132 N   0  0  0  0  0  0  0  0  0  0  0  0\\n   -0.0957   -2.3285   -0.7813 C   0  0  0  0  0  0  0  0  0  0  0  0\\n    1.1829   -2.3922   -1.6190 C   0  0  0  0  0  0  0  0  0  0  0  0\\n    0.0158   -3.1659    0.4916 C   0  0  0  0  0  0  0  0  0  0  0  0\\n    2.4437    0.7588   -0.6188 C   0  0  0  0  0  0  0  0  0  0  0  0\\n    3.8046    0.8269   -0.2980 C   0  0  0  0  0  0  0  0  0  0  0  0\\n  1  2  1  0\\n  2  3  1  0\\n  3  4  2  0\\n  4  5  1  0\\n  5  6  2  0\\n  6  7  1  0\\n  7  8  2  0\\n  8  9  1  0\\n  9 10  2  0\\n 10 11  1  0\\n 11 12  2  0\\n 12 13  1  0\\n 13 14  2  0\\n 14 15  1  0\\n 15 16  2  0\\n 16 17  1  0\\n 17 18  2  0\\n 18 19  1  0\\n 19 20  1  0\\n 20 21  1  0\\n 20 22  1  0\\n  6 23  1  0\\n 23 24  2  0\\n 24  3  1  0\\n 19  7  1  0\\n 18  9  1  0\\n 15 10  1  0\\nM  END\\n\",\"sdf\");\n",
       "\tviewergrid_16100394857606103[0][1].setStyle({\"stick\": {}});\n",
       "\tviewergrid_16100394857606103[0][1].addSurface(1,{\"opacity\": 0.7, \"color\": \"white\"});\n",
       "\tviewergrid_16100394857606103[0][0].setBackgroundColor(\"0xeeeeee\");\n",
       "\tviewergrid_16100394857606103[0][1].setBackgroundColor(\"0xeeeeee\");\n",
       "\tviewergrid_16100394857606103[0][0].zoomTo();\n",
       "\tviewergrid_16100394857606103[0][1].zoomTo();\n",
       "\tviewergrid_16100394857606103[0][0].savefig(\"test.png\");\n",
       "\tviewergrid_16100394857606103[0][1].savefig(\"test.png\");\n",
       "viewergrid_16100394857606103[0][1].render();\n",
       "viewergrid_16100394857606103[0][0].render();\n",
       "});\n",
       "</script>"
      ]
     },
     "metadata": {},
     "output_type": "display_data"
    }
   ],
   "source": [
    "import py3Dmol\n",
    "def drawit(ref,db,p=None,confId=-1):\n",
    "        refMol = Chem.MolToMolBlock(ref,confId=confId)\n",
    "        dbMol = Chem.MolToMolBlock(db,confId=confId)\n",
    "        if p is None:\n",
    "            p = py3Dmol.view(width=400,height=400,viewergrid=(1,2))\n",
    "        p.removeAllModels()\n",
    "        #p.setViewStyle({'style':'outline','color':'black','width':0.3})\n",
    "        p.addModel(dbMol,'sdf',viewer=(0,0))\n",
    "        p.setStyle({'stick':{}},viewer=(0,0))\n",
    "        p.addSurface(py3Dmol.VDW,{'opacity':0.7,'color':'white'}, viewer=(0,0))\n",
    "        p.setBackgroundColor('0xeeeeee')\n",
    "        p.addModel(refMol,'sdf',viewer=(0,1))\n",
    "        p.setStyle({'stick':{}},viewer=(0,1))\n",
    "        p.addSurface(py3Dmol.VDW,{'opacity':0.7,'color':'white'}, viewer=(0,1))\n",
    "        p.setBackgroundColor('0xeeeeee')\n",
    "        p.zoomTo()\n",
    "        p.savefig('test.png')\n",
    "        return p.show()\n",
    "    \n",
    "import numpy as np\n",
    "#from openbabel import openbabel\n",
    "from rdkit import Chem\n",
    "from rdkit.Chem import AllChem\n",
    "\n",
    "refMol = Chem.MolFromMolFile('ref.mol')\n",
    "dbMol = Chem.MolFromMolFile('db.mol')\n",
    "#refMol = Chem.MolFromMolFile('ALA.mol')\n",
    "drawit(refMol,dbMol)\n",
    "#drawit(dbMol)"
   ]
  },
  {
   "cell_type": "code",
   "execution_count": 3,
   "metadata": {},
   "outputs": [
    {
     "ename": "NameError",
     "evalue": "name 'fig' is not defined",
     "output_type": "error",
     "traceback": [
      "\u001b[1;31m---------------------------------------------------------------------------\u001b[0m",
      "\u001b[1;31mNameError\u001b[0m                                 Traceback (most recent call last)",
      "\u001b[1;32m<ipython-input-3-b6c8be0d4170>\u001b[0m in \u001b[0;36m<module>\u001b[1;34m\u001b[0m\n\u001b[1;32m----> 1\u001b[1;33m \u001b[0mfig\u001b[0m\u001b[1;33m.\u001b[0m\u001b[0msavefig\u001b[0m\u001b[1;33m(\u001b[0m\u001b[1;34m'test.png'\u001b[0m\u001b[1;33m)\u001b[0m\u001b[1;33m\u001b[0m\u001b[1;33m\u001b[0m\u001b[0m\n\u001b[0m",
      "\u001b[1;31mNameError\u001b[0m: name 'fig' is not defined"
     ]
    }
   ],
   "source": []
  },
  {
   "cell_type": "code",
   "execution_count": null,
   "metadata": {},
   "outputs": [],
   "source": []
  }
 ],
 "metadata": {
  "kernelspec": {
   "display_name": "Python 3",
   "language": "python",
   "name": "python3"
  },
  "language_info": {
   "codemirror_mode": {
    "name": "ipython",
    "version": 3
   },
   "file_extension": ".py",
   "mimetype": "text/x-python",
   "name": "python",
   "nbconvert_exporter": "python",
   "pygments_lexer": "ipython3",
   "version": "3.6.12"
  },
  "varInspector": {
   "cols": {
    "lenName": 16,
    "lenType": 16,
    "lenVar": 40
   },
   "kernels_config": {
    "python": {
     "delete_cmd_postfix": "",
     "delete_cmd_prefix": "del ",
     "library": "var_list.py",
     "varRefreshCmd": "print(var_dic_list())"
    },
    "r": {
     "delete_cmd_postfix": ") ",
     "delete_cmd_prefix": "rm(",
     "library": "var_list.r",
     "varRefreshCmd": "cat(var_dic_list()) "
    }
   },
   "types_to_exclude": [
    "module",
    "function",
    "builtin_function_or_method",
    "instance",
    "_Feature"
   ],
   "window_display": false
  }
 },
 "nbformat": 4,
 "nbformat_minor": 4
}
