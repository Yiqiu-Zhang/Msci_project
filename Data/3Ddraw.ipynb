{
 "cells": [
  {
   "cell_type": "code",
   "execution_count": 5,
   "metadata": {},
   "outputs": [
    {
     "data": {
      "application/3dmoljs_load.v0": "<div id=\"3dmolviewer_16089906450119565\"  style=\"position: relative; width: 400px; height: 400px\">\n        <p id=\"3dmolwarning_16089906450119565\" style=\"background-color:#ffcccc;color:black\">You appear to be running in JupyterLab (or JavaScript failed to load for some other reason).  You need to install the 3dmol extension: <br>\n        <tt>jupyter labextension install jupyterlab_3dmol</tt></p>\n        </div>\n<script>\n\nvar loadScriptAsync = function(uri){\n  return new Promise((resolve, reject) => {\n    var tag = document.createElement('script');\n    tag.src = uri;\n    tag.async = true;\n    tag.onload = () => {\n      resolve();\n    };\n  var firstScriptTag = document.getElementsByTagName('script')[0];\n  firstScriptTag.parentNode.insertBefore(tag, firstScriptTag);\n});\n};\n\nif(typeof $3Dmolpromise === 'undefined') {\n$3Dmolpromise = null;\n  $3Dmolpromise = loadScriptAsync('https://3dmol.csb.pitt.edu/build/3Dmol.js');\n}\n\nvar viewer_16089906450119565 = null;\nvar warn = document.getElementById(\"3dmolwarning_16089906450119565\");\nif(warn) {\n    warn.parentNode.removeChild(warn);\n}\n$3Dmolpromise.then(function() {\nvar viewergrid_16089906450119565 = null;\nviewergrid_16089906450119565 = $3Dmol.createViewerGrid($(\"#3dmolviewer_16089906450119565\"),{rows: 1, cols: 2, control_all: true},{backgroundColor:\"white\"});\nviewer_16089906450119565 = viewergrid_16089906450119565[0][0];\n\tviewergrid_16089906450119565[0][0].removeAllModels();\n\tviewergrid_16089906450119565[0][1].removeAllModels();\n\tviewergrid_16089906450119565[0][0].setViewStyle({\"style\": \"outline\", \"color\": \"black\", \"width\": 0.1});\n\tviewergrid_16089906450119565[0][1].setViewStyle({\"style\": \"outline\", \"color\": \"black\", \"width\": 0.1});\n\tviewergrid_16089906450119565[0][0].addModel(\"\\n     RDKit          3D\\n\\n 22 24  0  0  0  0  0  0  0  0999 V2000\\n   -3.9107    3.9146    1.2331 C   0  0  0  0  0  0  0  0  0  0  0  0\\n   -3.4193    2.5329    1.0712 C   0  0  0  0  0  0  0  0  0  0  0  0\\n   -3.4982    1.9853   -0.1986 C   0  0  0  0  0  0  0  0  0  0  0  0\\n   -2.8028    0.8326   -0.4619 C   0  0  0  0  0  0  0  0  0  0  0  0\\n   -2.1288    0.1096    0.5117 C   0  0  0  0  0  0  0  0  0  0  0  0\\n   -0.9473   -0.6299    0.0351 C   0  0  0  0  0  0  0  0  0  0  0  0\\n    0.3343   -0.1416   -0.0403 C   0  0  0  0  0  0  0  0  0  0  0  0\\n    0.7927    1.1008    0.3887 C   0  0  0  0  0  0  0  0  0  0  0  0\\n    2.1234    1.3078    0.6239 C   0  0  0  0  0  0  0  0  0  0  0  0\\n    3.0728    0.3107    0.4663 C   0  0  0  0  0  0  0  0  0  0  0  0\\n    4.4821    0.7127    0.3879 C   0  0  0  0  0  0  0  0  0  0  0  0\\n    4.9410    1.0985   -0.9852 C   0  0  0  0  0  0  0  0  0  0  0  0\\n    5.3386   -0.3321    1.0454 C   0  0  0  0  0  0  0  0  0  0  0  0\\n    2.5947   -0.9153    0.2132 N   0  0  0  0  0  0  0  0  0  0  0  0\\n    1.2741   -1.1652    0.0191 C   0  0  0  0  0  0  0  0  0  0  0  0\\n    0.4232   -2.4078   -0.8081 S   0  0  0  0  0  0  0  0  0  0  0  0\\n   -1.1383   -1.6956   -0.8384 C   0  0  0  0  0  0  0  0  0  0  0  0\\n   -2.3058   -1.9767   -1.6862 C   0  0  0  0  0  0  0  0  0  0  0  0\\n   -2.2618   -1.7695   -2.9352 O   0  0  0  0  0  0  0  0  0  0  0  0\\n   -3.5691   -2.1077   -1.1357 O   0  0  0  0  0  0  0  0  0  0  0  0\\n   -2.1374    0.6365    1.7952 C   0  0  0  0  0  0  0  0  0  0  0  0\\n   -2.7925    1.8258    2.0797 C   0  0  0  0  0  0  0  0  0  0  0  0\\n  1  2  1  0\\n  2  3  2  0\\n  3  4  1  0\\n  4  5  2  0\\n  5  6  1  0\\n  6  7  1  0\\n  7  8  2  0\\n  8  9  1  0\\n  9 10  2  0\\n 10 11  1  0\\n 11 12  1  0\\n 11 13  1  0\\n 10 14  1  0\\n 14 15  2  0\\n 15 16  1  0\\n 16 17  1  0\\n 17 18  1  0\\n 18 19  2  0\\n 18 20  1  0\\n  5 21  1  0\\n 21 22  2  0\\n 22  2  1  0\\n 17  6  2  0\\n 15  7  1  0\\nM  END\\n\",\"sdf\");\n\tviewergrid_16089906450119565[0][0].setStyle({\"stick\": {}});\n\tviewergrid_16089906450119565[0][0].addSurface(1,{\"opacity\": 0.7, \"color\": \"white\"});\n\tviewergrid_16089906450119565[0][0].setBackgroundColor(\"0xeeeeee\");\n\tviewergrid_16089906450119565[0][1].setBackgroundColor(\"0xeeeeee\");\n\tviewergrid_16089906450119565[0][1].addModel(\"\\n     RDKit          3D\\n\\n 24 27  0  0  0  0  0  0  0  0999 V2000\\n    6.6841    0.5364    1.1811 C   0  0  0  0  0  0  0  0  0  0  0  0\\n    5.9488    0.4321   -0.0318 O   0  0  0  0  0  0  0  0  0  0  0  0\\n    4.5859    0.3959    0.0744 C   0  0  0  0  0  0  0  0  0  0  0  0\\n    3.8539    0.4147    1.2617 C   0  0  0  0  0  0  0  0  0  0  0  0\\n    2.4551    0.3678    1.2254 C   0  0  0  0  0  0  0  0  0  0  0  0\\n    1.7744    0.2901    0.0053 C   0  0  0  0  0  0  0  0  0  0  0  0\\n    0.3131    0.2379   -0.0070 C   0  0  0  0  0  0  0  0  0  0  0  0\\n   -0.4569    1.1866    0.4875 N   0  0  0  0  0  0  0  0  0  0  0  0\\n   -1.7534    0.7955    0.2554 C   0  0  0  0  0  0  0  0  0  0  0  0\\n   -2.9682    1.4635    0.5571 C   0  0  0  0  0  0  0  0  0  0  0  0\\n   -2.9516    2.7209    1.1898 C   0  0  0  0  0  0  0  0  0  0  0  0\\n   -4.1498    3.3708    1.4811 C   0  0  0  0  0  0  0  0  0  0  0  0\\n   -5.3650    2.7750    1.1448 C   0  0  0  0  0  0  0  0  0  0  0  0\\n   -5.3894    1.5259    0.5158 C   0  0  0  0  0  0  0  0  0  0  0  0\\n   -4.1955    0.8519    0.2119 C   0  0  0  0  0  0  0  0  0  0  0  0\\n   -4.1886   -0.3997   -0.4202 C   0  0  0  0  0  0  0  0  0  0  0  0\\n   -2.9945   -1.0695   -0.7212 C   0  0  0  0  0  0  0  0  0  0  0  0\\n   -1.7875   -0.4490   -0.3701 C   0  0  0  0  0  0  0  0  0  0  0  0\\n   -0.4575   -0.8085   -0.4935 N   0  0  0  0  0  0  0  0  0  0  0  0\\n    0.0581   -2.0830   -0.9921 C   0  0  0  0  0  0  0  0  0  0  0  0\\n   -0.4225   -3.2791   -0.1675 C   0  0  0  0  0  0  0  0  0  0  0  0\\n   -0.2061   -2.2711   -2.4855 C   0  0  0  0  0  0  0  0  0  0  0  0\\n    2.5108    0.2946   -1.1839 C   0  0  0  0  0  0  0  0  0  0  0  0\\n    3.9071    0.3398   -1.1455 C   0  0  0  0  0  0  0  0  0  0  0  0\\n  1  2  1  0\\n  2  3  1  0\\n  3  4  2  0\\n  4  5  1  0\\n  5  6  2  0\\n  6  7  1  0\\n  7  8  2  0\\n  8  9  1  0\\n  9 10  2  0\\n 10 11  1  0\\n 11 12  2  0\\n 12 13  1  0\\n 13 14  2  0\\n 14 15  1  0\\n 15 16  2  0\\n 16 17  1  0\\n 17 18  2  0\\n 18 19  1  0\\n 19 20  1  0\\n 20 21  1  0\\n 20 22  1  0\\n  6 23  1  0\\n 23 24  2  0\\n 24  3  1  0\\n 19  7  1  0\\n 18  9  1  0\\n 15 10  1  0\\nM  END\\n\",\"sdf\");\n\tviewergrid_16089906450119565[0][1].setStyle({\"stick\": {}});\n\tviewergrid_16089906450119565[0][1].addSurface(1,{\"opacity\": 0.7, \"color\": \"white\"});\n\tviewergrid_16089906450119565[0][0].setBackgroundColor(\"0xeeeeee\");\n\tviewergrid_16089906450119565[0][1].setBackgroundColor(\"0xeeeeee\");\n\tviewergrid_16089906450119565[0][0].zoomTo();\n\tviewergrid_16089906450119565[0][1].zoomTo();\nviewergrid_16089906450119565[0][1].render();\nviewergrid_16089906450119565[0][0].render();\n});\n</script>",
      "text/html": [
       "<div id=\"3dmolviewer_16089906450119565\"  style=\"position: relative; width: 400px; height: 400px\">\n",
       "        <p id=\"3dmolwarning_16089906450119565\" style=\"background-color:#ffcccc;color:black\">You appear to be running in JupyterLab (or JavaScript failed to load for some other reason).  You need to install the 3dmol extension: <br>\n",
       "        <tt>jupyter labextension install jupyterlab_3dmol</tt></p>\n",
       "        </div>\n",
       "<script>\n",
       "\n",
       "var loadScriptAsync = function(uri){\n",
       "  return new Promise((resolve, reject) => {\n",
       "    var tag = document.createElement('script');\n",
       "    tag.src = uri;\n",
       "    tag.async = true;\n",
       "    tag.onload = () => {\n",
       "      resolve();\n",
       "    };\n",
       "  var firstScriptTag = document.getElementsByTagName('script')[0];\n",
       "  firstScriptTag.parentNode.insertBefore(tag, firstScriptTag);\n",
       "});\n",
       "};\n",
       "\n",
       "if(typeof $3Dmolpromise === 'undefined') {\n",
       "$3Dmolpromise = null;\n",
       "  $3Dmolpromise = loadScriptAsync('https://3dmol.csb.pitt.edu/build/3Dmol.js');\n",
       "}\n",
       "\n",
       "var viewer_16089906450119565 = null;\n",
       "var warn = document.getElementById(\"3dmolwarning_16089906450119565\");\n",
       "if(warn) {\n",
       "    warn.parentNode.removeChild(warn);\n",
       "}\n",
       "$3Dmolpromise.then(function() {\n",
       "var viewergrid_16089906450119565 = null;\n",
       "viewergrid_16089906450119565 = $3Dmol.createViewerGrid($(\"#3dmolviewer_16089906450119565\"),{rows: 1, cols: 2, control_all: true},{backgroundColor:\"white\"});\n",
       "viewer_16089906450119565 = viewergrid_16089906450119565[0][0];\n",
       "\tviewergrid_16089906450119565[0][0].removeAllModels();\n",
       "\tviewergrid_16089906450119565[0][1].removeAllModels();\n",
       "\tviewergrid_16089906450119565[0][0].setViewStyle({\"style\": \"outline\", \"color\": \"black\", \"width\": 0.1});\n",
       "\tviewergrid_16089906450119565[0][1].setViewStyle({\"style\": \"outline\", \"color\": \"black\", \"width\": 0.1});\n",
       "\tviewergrid_16089906450119565[0][0].addModel(\"\\n     RDKit          3D\\n\\n 22 24  0  0  0  0  0  0  0  0999 V2000\\n   -3.9107    3.9146    1.2331 C   0  0  0  0  0  0  0  0  0  0  0  0\\n   -3.4193    2.5329    1.0712 C   0  0  0  0  0  0  0  0  0  0  0  0\\n   -3.4982    1.9853   -0.1986 C   0  0  0  0  0  0  0  0  0  0  0  0\\n   -2.8028    0.8326   -0.4619 C   0  0  0  0  0  0  0  0  0  0  0  0\\n   -2.1288    0.1096    0.5117 C   0  0  0  0  0  0  0  0  0  0  0  0\\n   -0.9473   -0.6299    0.0351 C   0  0  0  0  0  0  0  0  0  0  0  0\\n    0.3343   -0.1416   -0.0403 C   0  0  0  0  0  0  0  0  0  0  0  0\\n    0.7927    1.1008    0.3887 C   0  0  0  0  0  0  0  0  0  0  0  0\\n    2.1234    1.3078    0.6239 C   0  0  0  0  0  0  0  0  0  0  0  0\\n    3.0728    0.3107    0.4663 C   0  0  0  0  0  0  0  0  0  0  0  0\\n    4.4821    0.7127    0.3879 C   0  0  0  0  0  0  0  0  0  0  0  0\\n    4.9410    1.0985   -0.9852 C   0  0  0  0  0  0  0  0  0  0  0  0\\n    5.3386   -0.3321    1.0454 C   0  0  0  0  0  0  0  0  0  0  0  0\\n    2.5947   -0.9153    0.2132 N   0  0  0  0  0  0  0  0  0  0  0  0\\n    1.2741   -1.1652    0.0191 C   0  0  0  0  0  0  0  0  0  0  0  0\\n    0.4232   -2.4078   -0.8081 S   0  0  0  0  0  0  0  0  0  0  0  0\\n   -1.1383   -1.6956   -0.8384 C   0  0  0  0  0  0  0  0  0  0  0  0\\n   -2.3058   -1.9767   -1.6862 C   0  0  0  0  0  0  0  0  0  0  0  0\\n   -2.2618   -1.7695   -2.9352 O   0  0  0  0  0  0  0  0  0  0  0  0\\n   -3.5691   -2.1077   -1.1357 O   0  0  0  0  0  0  0  0  0  0  0  0\\n   -2.1374    0.6365    1.7952 C   0  0  0  0  0  0  0  0  0  0  0  0\\n   -2.7925    1.8258    2.0797 C   0  0  0  0  0  0  0  0  0  0  0  0\\n  1  2  1  0\\n  2  3  2  0\\n  3  4  1  0\\n  4  5  2  0\\n  5  6  1  0\\n  6  7  1  0\\n  7  8  2  0\\n  8  9  1  0\\n  9 10  2  0\\n 10 11  1  0\\n 11 12  1  0\\n 11 13  1  0\\n 10 14  1  0\\n 14 15  2  0\\n 15 16  1  0\\n 16 17  1  0\\n 17 18  1  0\\n 18 19  2  0\\n 18 20  1  0\\n  5 21  1  0\\n 21 22  2  0\\n 22  2  1  0\\n 17  6  2  0\\n 15  7  1  0\\nM  END\\n\",\"sdf\");\n",
       "\tviewergrid_16089906450119565[0][0].setStyle({\"stick\": {}});\n",
       "\tviewergrid_16089906450119565[0][0].addSurface(1,{\"opacity\": 0.7, \"color\": \"white\"});\n",
       "\tviewergrid_16089906450119565[0][0].setBackgroundColor(\"0xeeeeee\");\n",
       "\tviewergrid_16089906450119565[0][1].setBackgroundColor(\"0xeeeeee\");\n",
       "\tviewergrid_16089906450119565[0][1].addModel(\"\\n     RDKit          3D\\n\\n 24 27  0  0  0  0  0  0  0  0999 V2000\\n    6.6841    0.5364    1.1811 C   0  0  0  0  0  0  0  0  0  0  0  0\\n    5.9488    0.4321   -0.0318 O   0  0  0  0  0  0  0  0  0  0  0  0\\n    4.5859    0.3959    0.0744 C   0  0  0  0  0  0  0  0  0  0  0  0\\n    3.8539    0.4147    1.2617 C   0  0  0  0  0  0  0  0  0  0  0  0\\n    2.4551    0.3678    1.2254 C   0  0  0  0  0  0  0  0  0  0  0  0\\n    1.7744    0.2901    0.0053 C   0  0  0  0  0  0  0  0  0  0  0  0\\n    0.3131    0.2379   -0.0070 C   0  0  0  0  0  0  0  0  0  0  0  0\\n   -0.4569    1.1866    0.4875 N   0  0  0  0  0  0  0  0  0  0  0  0\\n   -1.7534    0.7955    0.2554 C   0  0  0  0  0  0  0  0  0  0  0  0\\n   -2.9682    1.4635    0.5571 C   0  0  0  0  0  0  0  0  0  0  0  0\\n   -2.9516    2.7209    1.1898 C   0  0  0  0  0  0  0  0  0  0  0  0\\n   -4.1498    3.3708    1.4811 C   0  0  0  0  0  0  0  0  0  0  0  0\\n   -5.3650    2.7750    1.1448 C   0  0  0  0  0  0  0  0  0  0  0  0\\n   -5.3894    1.5259    0.5158 C   0  0  0  0  0  0  0  0  0  0  0  0\\n   -4.1955    0.8519    0.2119 C   0  0  0  0  0  0  0  0  0  0  0  0\\n   -4.1886   -0.3997   -0.4202 C   0  0  0  0  0  0  0  0  0  0  0  0\\n   -2.9945   -1.0695   -0.7212 C   0  0  0  0  0  0  0  0  0  0  0  0\\n   -1.7875   -0.4490   -0.3701 C   0  0  0  0  0  0  0  0  0  0  0  0\\n   -0.4575   -0.8085   -0.4935 N   0  0  0  0  0  0  0  0  0  0  0  0\\n    0.0581   -2.0830   -0.9921 C   0  0  0  0  0  0  0  0  0  0  0  0\\n   -0.4225   -3.2791   -0.1675 C   0  0  0  0  0  0  0  0  0  0  0  0\\n   -0.2061   -2.2711   -2.4855 C   0  0  0  0  0  0  0  0  0  0  0  0\\n    2.5108    0.2946   -1.1839 C   0  0  0  0  0  0  0  0  0  0  0  0\\n    3.9071    0.3398   -1.1455 C   0  0  0  0  0  0  0  0  0  0  0  0\\n  1  2  1  0\\n  2  3  1  0\\n  3  4  2  0\\n  4  5  1  0\\n  5  6  2  0\\n  6  7  1  0\\n  7  8  2  0\\n  8  9  1  0\\n  9 10  2  0\\n 10 11  1  0\\n 11 12  2  0\\n 12 13  1  0\\n 13 14  2  0\\n 14 15  1  0\\n 15 16  2  0\\n 16 17  1  0\\n 17 18  2  0\\n 18 19  1  0\\n 19 20  1  0\\n 20 21  1  0\\n 20 22  1  0\\n  6 23  1  0\\n 23 24  2  0\\n 24  3  1  0\\n 19  7  1  0\\n 18  9  1  0\\n 15 10  1  0\\nM  END\\n\",\"sdf\");\n",
       "\tviewergrid_16089906450119565[0][1].setStyle({\"stick\": {}});\n",
       "\tviewergrid_16089906450119565[0][1].addSurface(1,{\"opacity\": 0.7, \"color\": \"white\"});\n",
       "\tviewergrid_16089906450119565[0][0].setBackgroundColor(\"0xeeeeee\");\n",
       "\tviewergrid_16089906450119565[0][1].setBackgroundColor(\"0xeeeeee\");\n",
       "\tviewergrid_16089906450119565[0][0].zoomTo();\n",
       "\tviewergrid_16089906450119565[0][1].zoomTo();\n",
       "viewergrid_16089906450119565[0][1].render();\n",
       "viewergrid_16089906450119565[0][0].render();\n",
       "});\n",
       "</script>"
      ]
     },
     "metadata": {},
     "output_type": "display_data"
    }
   ],
   "source": [
    "import py3Dmol\n",
    "def drawit(ref,db,p=None,confId=-1):\n",
    "        refMol = Chem.MolToMolBlock(ref,confId=confId)\n",
    "        dbMol = Chem.MolToMolBlock(db,confId=confId)\n",
    "        if p is None:\n",
    "            p = py3Dmol.view(width=400,height=400,viewergrid=(1,2))\n",
    "        p.removeAllModels()\n",
    "        p.setViewStyle({'style':'outline','color':'black','width':0.1})\n",
    "        p.addModel(dbMol,'sdf',viewer=(0,0))\n",
    "        p.setStyle({'stick':{}},viewer=(0,0))\n",
    "        p.addSurface(py3Dmol.VDW,{'opacity':0.7,'color':'white'}, viewer=(0,0))\n",
    "        p.setBackgroundColor('0xeeeeee')\n",
    "        p.addModel(refMol,'sdf',viewer=(0,1))\n",
    "        p.setStyle({'stick':{}},viewer=(0,1))\n",
    "        p.addSurface(py3Dmol.VDW,{'opacity':0.7,'color':'white'}, viewer=(0,1))\n",
    "        p.setBackgroundColor('0xeeeeee')\n",
    "        p.zoomTo()\n",
    "        return p.show()\n",
    "    \n",
    "import numpy as np\n",
    "#from openbabel import openbabel\n",
    "from rdkit import Chem\n",
    "from rdkit.Chem import AllChem\n",
    "\n",
    "refMol = Chem.MolFromMolFile('AAR.mol')\n",
    "dbMol = Chem.MolFromMolFile('GAR.mol')\n",
    "#refMol = Chem.MolFromMolFile('ALA.mol')\n",
    "drawit(refMol,dbMol)\n",
    "#drawit(dbMol)"
   ]
  },
  {
   "cell_type": "code",
   "execution_count": null,
   "metadata": {},
   "outputs": [],
   "source": []
  }
 ],
 "metadata": {
  "kernelspec": {
   "display_name": "Python 3",
   "language": "python",
   "name": "python3"
  },
  "language_info": {
   "codemirror_mode": {
    "name": "ipython",
    "version": 3
   },
   "file_extension": ".py",
   "mimetype": "text/x-python",
   "name": "python",
   "nbconvert_exporter": "python",
   "pygments_lexer": "ipython3",
   "version": "3.6.12"
  },
  "varInspector": {
   "cols": {
    "lenName": 16,
    "lenType": 16,
    "lenVar": 40
   },
   "kernels_config": {
    "python": {
     "delete_cmd_postfix": "",
     "delete_cmd_prefix": "del ",
     "library": "var_list.py",
     "varRefreshCmd": "print(var_dic_list())"
    },
    "r": {
     "delete_cmd_postfix": ") ",
     "delete_cmd_prefix": "rm(",
     "library": "var_list.r",
     "varRefreshCmd": "cat(var_dic_list()) "
    }
   },
   "types_to_exclude": [
    "module",
    "function",
    "builtin_function_or_method",
    "instance",
    "_Feature"
   ],
   "window_display": false
  }
 },
 "nbformat": 4,
 "nbformat_minor": 4
}
